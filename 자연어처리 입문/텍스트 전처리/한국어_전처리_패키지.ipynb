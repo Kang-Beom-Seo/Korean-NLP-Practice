{
  "nbformat": 4,
  "nbformat_minor": 0,
  "metadata": {
    "colab": {
      "name": "한국어 전처리 패키지.ipynb",
      "private_outputs": true,
      "provenance": [],
      "collapsed_sections": [],
      "authorship_tag": "ABX9TyNIAz9iYl4HBKJ3yjj8vejP",
      "include_colab_link": true
    },
    "kernelspec": {
      "name": "python3",
      "display_name": "Python 3"
    }
  },
  "cells": [
    {
      "cell_type": "markdown",
      "metadata": {
        "id": "view-in-github",
        "colab_type": "text"
      },
      "source": [
        "<a href=\"https://colab.research.google.com/github/Kang-Beom-Seo/Korean-NLP-Practice/blob/main/%ED%95%9C%EA%B5%AD%EC%96%B4_%EC%A0%84%EC%B2%98%EB%A6%AC_%ED%8C%A8%ED%82%A4%EC%A7%80.ipynb\" target=\"_parent\"><img src=\"https://colab.research.google.com/assets/colab-badge.svg\" alt=\"Open In Colab\"/></a>"
      ]
    },
    {
      "cell_type": "code",
      "metadata": {
        "id": "vry5UgX9PQA_"
      },
      "source": [
        "!pip install git+https://github.com/haven-jeon/PyKoSpacing.git #전희원님이 개발한 한국어 띄어쓰기 패키지로\r\n",
        "                                                               #띄어쓰기가 되어있지 않은 문장을 띄어쓰기를 한 문장으로 변환해주는 패키지입니다.\r\n",
        "                                                               #PyKoSpacing은 대용량 코퍼스를 학습하여 만들어진 띄어쓰기 딥 러닝 모델로 준수한 성능을 가지고 있습니다."
      ],
      "execution_count": null,
      "outputs": []
    },
    {
      "cell_type": "code",
      "metadata": {
        "id": "xaUfLfbqPrdf"
      },
      "source": [
        "sent = '김철수는 극중 두 인격의 사나이 이광수 역을 맡았다. 철수는 한국 유일의 태권도 전승자를 가리는 결전의 날을 앞두고 10년간 함께 훈련한 사형인 유연재(김광수 분)를 찾으러 속세로 내려온 인물이다.'"
      ],
      "execution_count": null,
      "outputs": []
    },
    {
      "cell_type": "code",
      "metadata": {
        "id": "c1DhUzwbQQx-"
      },
      "source": [
        "new_sent = sent.replace(\" \", '') # 띄어쓰기가 없는 문장 임의로 만들기\r\n",
        "print(new_sent)"
      ],
      "execution_count": null,
      "outputs": []
    },
    {
      "cell_type": "code",
      "metadata": {
        "id": "GaJpczFPQT_S"
      },
      "source": [
        "from pykospacing import spacing\r\n",
        "\r\n",
        "kospacing_sent = spacing(new_sent) #띄어쓰기를 해준다.\r\n",
        "print(sent)\r\n",
        "print(kospacing_sent) #정확히 일치한다."
      ],
      "execution_count": null,
      "outputs": []
    },
    {
      "cell_type": "code",
      "metadata": {
        "id": "jmMpa8AXQd5S"
      },
      "source": [
        "!pip install git+https://github.com/ssut/py-hanspell.git"
      ],
      "execution_count": null,
      "outputs": []
    },
    {
      "cell_type": "code",
      "metadata": {
        "id": "CV99KI8uQob0"
      },
      "source": [
        "from hanspell import spell_checker\r\n",
        "\r\n",
        "sent = \"맞춤법 틀리면 외 않되? 쓰고싶은대로쓰면돼지 \"\r\n",
        "spelled_sent = spell_checker.check(sent)\r\n",
        "\r\n",
        "hanspell_sent = spelled_sent.checked\r\n",
        "print(hanspell_sent)"
      ],
      "execution_count": null,
      "outputs": []
    },
    {
      "cell_type": "code",
      "metadata": {
        "id": "8PUyJ5efQwsG"
      },
      "source": [
        "spelled_sent = spell_checker.check(new_sent)\r\n",
        "\r\n",
        "hanspell_sent = spelled_sent.checked #띄어쓰기도 같이 보정해준다.\r\n",
        "print(hanspell_sent)\r\n",
        "print(kospacing_sent) # 앞서 사용한 kospacing 패키지에서 얻은 결과"
      ],
      "execution_count": null,
      "outputs": []
    },
    {
      "cell_type": "code",
      "metadata": {
        "id": "BfiTRWNuQ-i3"
      },
      "source": [
        "!pip install soynlp"
      ],
      "execution_count": null,
      "outputs": []
    },
    {
      "cell_type": "code",
      "metadata": {
        "id": "TrFG_3sqRLXj"
      },
      "source": [
        "!pip install konlpy"
      ],
      "execution_count": null,
      "outputs": []
    },
    {
      "cell_type": "code",
      "metadata": {
        "id": "7gfuyJoCRTE2"
      },
      "source": [
        "import konlpy\r\n",
        "from konlpy.tag import Okt\r\n",
        "tokenizer = Okt()\r\n",
        "print(tokenizer.morphs('에이비식스 이대휘 1월 최애돌 기부 요정')) #신조어는 제대로 형태소 분석기가 작동하지 않는다."
      ],
      "execution_count": null,
      "outputs": []
    },
    {
      "cell_type": "code",
      "metadata": {
        "id": "iU-d_rwUReFq"
      },
      "source": [
        "import urllib.request\r\n",
        "from soynlp import DoublespaceLineCorpus #soynlp는 학습 기반의 단어 토크나이저이므로 학습을 시켜야 한다.\r\n",
        "from soynlp.word import WordExtractor"
      ],
      "execution_count": null,
      "outputs": []
    },
    {
      "cell_type": "code",
      "metadata": {
        "id": "9HabWQvMR04B"
      },
      "source": [
        "urllib.request.urlretrieve(\"https://raw.githubusercontent.com/lovit/soynlp/master/tutorials/2016-10-20.txt\", filename=\"2016-10-20.txt\")"
      ],
      "execution_count": null,
      "outputs": []
    },
    {
      "cell_type": "code",
      "metadata": {
        "id": "Qv_3mwCxR3VK"
      },
      "source": [
        "# 훈련 데이터를 다수의 문서로 분리\r\n",
        "corpus = DoublespaceLineCorpus(\"2016-10-20.txt\")\r\n",
        "len(corpus)"
      ],
      "execution_count": null,
      "outputs": []
    },
    {
      "cell_type": "code",
      "metadata": {
        "id": "B1g0xu9KR7pE"
      },
      "source": [
        "i = 0\r\n",
        "for document in corpus:\r\n",
        "  if len(document) > 0:\r\n",
        "    print(document)\r\n",
        "    i = i+1\r\n",
        "  if i == 3:\r\n",
        "    break"
      ],
      "execution_count": null,
      "outputs": []
    },
    {
      "cell_type": "code",
      "metadata": {
        "id": "9JmAVFOQR9Zr"
      },
      "source": [
        "word_extractor = WordExtractor()\r\n",
        "word_extractor.train(corpus)\r\n",
        "word_score_table = word_extractor.extract()"
      ],
      "execution_count": null,
      "outputs": []
    },
    {
      "cell_type": "code",
      "metadata": {
        "id": "tNClMO5GSp45"
      },
      "source": [
        "word_score_table[\"반포한\"].cohesion_forward"
      ],
      "execution_count": null,
      "outputs": []
    },
    {
      "cell_type": "code",
      "metadata": {
        "id": "u10POlJkTcN2"
      },
      "source": [
        "word_score_table[\"반포한강\"].cohesion_forward"
      ],
      "execution_count": null,
      "outputs": []
    },
    {
      "cell_type": "code",
      "metadata": {
        "id": "FmQJFKtwTeqF"
      },
      "source": [
        "word_score_table[\"반포한강공\"].cohesion_forward"
      ],
      "execution_count": null,
      "outputs": []
    },
    {
      "cell_type": "code",
      "metadata": {
        "id": "1FlWtL2fTn-Z"
      },
      "source": [
        "word_score_table[\"반포한강공원\"].cohesion_forward #제일 높으므로, 하나의 단어로 판단하기에 제일 적절한 단어"
      ],
      "execution_count": null,
      "outputs": []
    },
    {
      "cell_type": "code",
      "metadata": {
        "id": "mXK5dtgWTpZR"
      },
      "source": [
        "word_score_table[\"반포한강공원에\"].cohesion_forward"
      ],
      "execution_count": null,
      "outputs": []
    },
    {
      "cell_type": "code",
      "metadata": {
        "id": "TDd2X-qZTq3w"
      },
      "source": [
        "word_score_table[\"디스\"].right_branching_entropy"
      ],
      "execution_count": null,
      "outputs": []
    },
    {
      "cell_type": "code",
      "metadata": {
        "id": "rfQ7cqvyUBXh"
      },
      "source": [
        "word_score_table[\"디스플\"].right_branching_entropy #'디스' 다음에는 다양한 문자가 올 수 있으니까 1.63이라는 값을 가지는 반면\r\n",
        "                                                   #'디스플'이라는 문자열 다음에는 다음 문자로 '레'가 오는 것이 너무나 명백하기 때문에 0이란 값을 가집니다."
      ],
      "execution_count": null,
      "outputs": []
    },
    {
      "cell_type": "code",
      "metadata": {
        "id": "17FohIopUEgI"
      },
      "source": [
        "word_score_table[\"디스플레\"].right_branching_entropy"
      ],
      "execution_count": null,
      "outputs": []
    },
    {
      "cell_type": "code",
      "metadata": {
        "id": "WcehKy1-UQhs"
      },
      "source": [
        "word_score_table[\"디스플레이\"].right_branching_entropy #갑자기 증가하는 이유는 이 다음에 조사나 다른 단어 여러가지가 올수 있어서이다.\r\n",
        "                                                       #이 값으로 단어를 구분하는 것이다."
      ],
      "execution_count": null,
      "outputs": []
    },
    {
      "cell_type": "code",
      "metadata": {
        "id": "MPRRRNnEUUsU"
      },
      "source": [
        "from soynlp.tokenizer import LTokenizer\r\n",
        "\r\n",
        "scores = {word:score.cohesion_forward for word, score in word_score_table.items()}\r\n",
        "l_tokenizer = LTokenizer(scores=scores) #L토큰(주로 명사)+R토큰(주로 조사)에서 L토큰의 score가 높은걸 찾아서 그 기준으로 분리하는 Tokenizer이다.\r\n",
        "l_tokenizer.tokenize(\"국제사회와 우리의 노력들로 범죄를 척결하자\", flatten=False)"
      ],
      "execution_count": null,
      "outputs": []
    },
    {
      "cell_type": "code",
      "metadata": {
        "id": "Yh4UpeihUzut"
      },
      "source": [
        "from soynlp.tokenizer import MaxScoreTokenizer #띄어쓰기가 안된 문장에서 점수가 높은 글자 시퀀스를 순차적으로 찾아낸다.\r\n",
        "\r\n",
        "maxscore_tokenizer = MaxScoreTokenizer(scores=scores)\r\n",
        "maxscore_tokenizer.tokenize(\"국제사회와우리의노력들로범죄를척결하자\")"
      ],
      "execution_count": null,
      "outputs": []
    },
    {
      "cell_type": "code",
      "metadata": {
        "id": "pIsfEYG-U2Ke"
      },
      "source": [
        "from soynlp.normalizer import *"
      ],
      "execution_count": null,
      "outputs": []
    },
    {
      "cell_type": "code",
      "metadata": {
        "id": "eiD9XvaMXSBI"
      },
      "source": [
        "print(emoticon_normalize('앜ㅋㅋㅋㅋ이영화존잼쓰ㅠㅠㅠㅠㅠ', num_repeats=2)) #반복되는 이모티콘을 줄여주어서 불필요하게 사전이 커지는 걸 막는다.\r\n",
        "print(emoticon_normalize('앜ㅋㅋㅋㅋㅋㅋㅋㅋㅋ이영화존잼쓰ㅠㅠㅠㅠ', num_repeats=2))\r\n",
        "print(emoticon_normalize('앜ㅋㅋㅋㅋㅋㅋㅋㅋㅋㅋㅋㅋ이영화존잼쓰ㅠㅠㅠㅠㅠㅠ', num_repeats=2))\r\n",
        "print(emoticon_normalize('앜ㅋㅋㅋㅋㅋㅋㅋㅋㅋㅋㅋㅋㅋㅋㅋㅋㅋ이영화존잼쓰ㅠㅠㅠㅠㅠㅠㅠㅠ', num_repeats=2))"
      ],
      "execution_count": null,
      "outputs": []
    },
    {
      "cell_type": "code",
      "metadata": {
        "id": "b-XN_sUfXUMB"
      },
      "source": [
        "print(repeat_normalize('와하하하하하하하하하핫', num_repeats=2)) #이모티콘이 아니여도 불필요한 단어 제거가 가능하다.\r\n",
        "print(repeat_normalize('와하하하하하하핫', num_repeats=2))\r\n",
        "print(repeat_normalize('와하하하하핫', num_repeats=2))"
      ],
      "execution_count": null,
      "outputs": []
    },
    {
      "cell_type": "code",
      "metadata": {
        "id": "Q0LPdG1oXdnp"
      },
      "source": [
        "pip install customized_konlpy"
      ],
      "execution_count": null,
      "outputs": []
    },
    {
      "cell_type": "code",
      "metadata": {
        "id": "IXK9lYLgX2lx"
      },
      "source": [
        "from ckonlpy.tag import Twitter\r\n",
        "twitter = Twitter()\r\n",
        "twitter.morphs('은경이는 사무실로 갔습니다.') #이름이 분리가 되어버렸다."
      ],
      "execution_count": null,
      "outputs": []
    },
    {
      "cell_type": "code",
      "metadata": {
        "id": "sZV55IqIX5Zn"
      },
      "source": [
        "twitter.add_dictionary('은경이', 'Noun') #사용자 사전에 추가함."
      ],
      "execution_count": null,
      "outputs": []
    },
    {
      "cell_type": "code",
      "metadata": {
        "id": "bYCu_qPDX--J"
      },
      "source": [
        "twitter.morphs('은경이는 사무실로 갔습니다.') #정상적으로 잘 분리함."
      ],
      "execution_count": null,
      "outputs": []
    },
    {
      "cell_type": "code",
      "metadata": {
        "id": "HrQm_CS3YAYo"
      },
      "source": [
        ""
      ],
      "execution_count": null,
      "outputs": []
    }
  ]
}
