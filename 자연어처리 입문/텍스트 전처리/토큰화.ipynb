{
  "nbformat": 4,
  "nbformat_minor": 0,
  "metadata": {
    "colab": {
      "name": "토큰화.ipynb",
      "private_outputs": true,
      "provenance": [],
      "collapsed_sections": [],
      "authorship_tag": "ABX9TyO1hiIF7c7yocsQKi2qo6zE",
      "include_colab_link": true
    },
    "kernelspec": {
      "name": "python3",
      "display_name": "Python 3"
    }
  },
  "cells": [
    {
      "cell_type": "markdown",
      "metadata": {
        "id": "view-in-github",
        "colab_type": "text"
      },
      "source": [
        "<a href=\"https://colab.research.google.com/github/Kang-Beom-Seo/Korean-NLP-Practice/blob/main/%ED%86%A0%ED%81%B0%ED%99%94.ipynb\" target=\"_parent\"><img src=\"https://colab.research.google.com/assets/colab-badge.svg\" alt=\"Open In Colab\"/></a>"
      ]
    },
    {
      "cell_type": "code",
      "metadata": {
        "id": "XaJD-u9d-lC8"
      },
      "source": [
        "import nltk"
      ],
      "execution_count": null,
      "outputs": []
    },
    {
      "cell_type": "code",
      "metadata": {
        "id": "aePwRNp34huE"
      },
      "source": [
        "from nltk.tokenize import word_tokenize\r\n",
        "text=\"I am actively looking for Ph.D. students. and you are a Ph.D. student.\""
      ],
      "execution_count": null,
      "outputs": []
    },
    {
      "cell_type": "code",
      "metadata": {
        "id": "GLybOkdD-Snc"
      },
      "source": [
        "print(word_tokenize(text)) #영단어를 단어 단위로 토큰화시켜줌."
      ],
      "execution_count": null,
      "outputs": []
    },
    {
      "cell_type": "code",
      "metadata": {
        "id": "88NRY06k-_-Z"
      },
      "source": [
        "from nltk.tag import pos_tag\r\n",
        "x=word_tokenize(text)\r\n",
        "pos_tag(x) #포스태거(해당하는 단어에 대한 품사를 알려줌)로 태깅해줌."
      ],
      "execution_count": null,
      "outputs": []
    },
    {
      "cell_type": "code",
      "metadata": {
        "id": "vXzZDhhV_iOu"
      },
      "source": [
        "import konlpy\r\n",
        "from konlpy.tag import Okt  \r\n",
        "okt=Okt() #Okt 형태소 분석기이다. 이전의 이름은 Twitter라는 이름의 형태소 분석기였다.\r\n",
        "print(okt.morphs(\"열심히 코딩한 당신, 연휴에는 여행을 가봐요\")) #형태소 단위로 토큰화를 하였다."
      ],
      "execution_count": null,
      "outputs": []
    },
    {
      "cell_type": "code",
      "metadata": {
        "id": "LPKxKV7qADWB"
      },
      "source": [
        "print(okt.pos(\"열심히 코딩한 당신, 연휴에는 여행을 가봐요\")) #형태소 단위로 토큰화를 하고, 각 토큰에 대해 품사를 태깅해준다."
      ],
      "execution_count": null,
      "outputs": []
    },
    {
      "cell_type": "code",
      "metadata": {
        "id": "9_R25wwbA_DR"
      },
      "source": [
        "print(okt.nouns(\"열심히 코딩한 당신, 연휴에는 여행을 가봐요\")) #토큰 중 명사만 뽑아내서 리턴해준다."
      ],
      "execution_count": null,
      "outputs": []
    },
    {
      "cell_type": "code",
      "metadata": {
        "id": "H_B1gOigBNIx"
      },
      "source": [
        "from konlpy.tag import Kkma  \r\n",
        "kkma=Kkma()  #서울대에서 개발한 꼬꼬마 분석기, 사용방식은 Okt와 비슷하다.\r\n",
        "print(kkma.morphs(\"열심히 코딩한 당신, 연휴에는 여행을 가봐요\"))"
      ],
      "execution_count": null,
      "outputs": []
    },
    {
      "cell_type": "code",
      "metadata": {
        "id": "VN-Wcha6Cacc"
      },
      "source": [
        "print(kkma.pos(\"열심히 코딩한 당신, 연휴에는 여행을 가봐요\"))"
      ],
      "execution_count": null,
      "outputs": []
    },
    {
      "cell_type": "code",
      "metadata": {
        "id": "CpbsjBneCec4"
      },
      "source": [
        "print(kkma.nouns(\"열심히 코딩한 당신, 연휴에는 여행을 가봐요\"))"
      ],
      "execution_count": null,
      "outputs": []
    },
    {
      "cell_type": "code",
      "metadata": {
        "id": "bmBJgrtXCiBZ"
      },
      "source": [
        ""
      ],
      "execution_count": null,
      "outputs": []
    }
  ]
}
