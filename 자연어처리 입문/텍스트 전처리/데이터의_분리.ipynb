{
  "nbformat": 4,
  "nbformat_minor": 0,
  "metadata": {
    "colab": {
      "name": "데이터의 분리.ipynb",
      "private_outputs": true,
      "provenance": [],
      "collapsed_sections": [],
      "authorship_tag": "ABX9TyOUcAznSkcRqbJk5Zt/AAYJ",
      "include_colab_link": true
    },
    "kernelspec": {
      "name": "python3",
      "display_name": "Python 3"
    }
  },
  "cells": [
    {
      "cell_type": "markdown",
      "metadata": {
        "id": "view-in-github",
        "colab_type": "text"
      },
      "source": [
        "<a href=\"https://colab.research.google.com/github/Kang-Beom-Seo/Korean-NLP-Practice/blob/main/%EB%8D%B0%EC%9D%B4%ED%84%B0%EC%9D%98_%EB%B6%84%EB%A6%AC.ipynb\" target=\"_parent\"><img src=\"https://colab.research.google.com/assets/colab-badge.svg\" alt=\"Open In Colab\"/></a>"
      ]
    },
    {
      "cell_type": "code",
      "metadata": {
        "id": "jIhqEhc_OuPG"
      },
      "source": [
        "X,y = zip(['a', 1], ['b', 2], ['c', 3]) #각 순서에 등장하는 원소들끼리 묶어준다.\r\n",
        "print(X)\r\n",
        "print(y)"
      ],
      "execution_count": null,
      "outputs": []
    },
    {
      "cell_type": "code",
      "metadata": {
        "id": "PC_X2FXIPxUV"
      },
      "source": [
        "sequences=[['a', 1], ['b', 2], ['c', 3]] # 리스트의 리스트 또는 행렬 또는 뒤에서 배울 개념인 2D 텐서.\r\n",
        "X,y = zip(*sequences) # *를 추가\r\n",
        "                      # *(asterisk)은 2가지를 의미한다. 1. 튜플, 2. unpacking 여기서는 sequences 리스트를 unpacking하여 (리스트1, 리스트2, 리스트3)으로 만들어준거다.\r\n",
        "print(X)\r\n",
        "print(y)"
      ],
      "execution_count": null,
      "outputs": []
    },
    {
      "cell_type": "code",
      "metadata": {
        "id": "gQlwdKj4QS2t"
      },
      "source": [
        "import pandas as pd\r\n",
        "\r\n",
        "values = [['당신에게 드리는 마지막 혜택!', 1],\r\n",
        "['내일 뵐 수 있을지 확인 부탁드...', 0],\r\n",
        "['도연씨. 잘 지내시죠? 오랜만입...', 0],\r\n",
        "['(광고) AI로 주가를 예측할 수 있다!', 1]]\r\n",
        "columns = ['메일 본문', '스팸 메일 유무']\r\n",
        "\r\n",
        "df = pd.DataFrame(values, columns=columns)\r\n",
        "df"
      ],
      "execution_count": null,
      "outputs": []
    },
    {
      "cell_type": "code",
      "metadata": {
        "id": "inoz4mLbjkpT"
      },
      "source": [
        "X=df['메일 본문']\r\n",
        "y=df['스팸 메일 유무']"
      ],
      "execution_count": null,
      "outputs": []
    },
    {
      "cell_type": "code",
      "metadata": {
        "id": "oL0Ef6UJjrUH"
      },
      "source": [
        "print(X)"
      ],
      "execution_count": null,
      "outputs": []
    },
    {
      "cell_type": "code",
      "metadata": {
        "id": "iFZMHgb7jsdM"
      },
      "source": [
        "print(y)"
      ],
      "execution_count": null,
      "outputs": []
    },
    {
      "cell_type": "code",
      "metadata": {
        "id": "8PsaTKbHjwr0"
      },
      "source": [
        "import numpy as np\r\n",
        "ar = np.arange(0,16).reshape((4,4))\r\n",
        "print(ar)"
      ],
      "execution_count": null,
      "outputs": []
    },
    {
      "cell_type": "code",
      "metadata": {
        "id": "94GMjwX4j9US"
      },
      "source": [
        "X=ar[:, :3]\r\n",
        "print(X)"
      ],
      "execution_count": null,
      "outputs": []
    },
    {
      "cell_type": "code",
      "metadata": {
        "id": "ebb5HDafj_Mi"
      },
      "source": [
        "y=ar[:,3]\r\n",
        "print(y)"
      ],
      "execution_count": null,
      "outputs": []
    },
    {
      "cell_type": "code",
      "metadata": {
        "id": "dV-eBNJdkAi1"
      },
      "source": [
        "from sklearn.model_selection import train_test_split\r\n",
        "X_train, X_test, y_train, y_test = train_test_split(X, y, test_size= 0.2, random_state=1234) #test_size, train_size는 테스트비율, 훈련비율로 둘중 하나만 쓰면 된다.\r\n",
        "                                                                                             #random_state는 난수시드를 의미한다."
      ],
      "execution_count": null,
      "outputs": []
    },
    {
      "cell_type": "code",
      "metadata": {
        "id": "iF0_LNyikR4f"
      },
      "source": [
        "import numpy as np\r\n",
        "from sklearn.model_selection import train_test_split\r\n",
        "X, y = np.arange(10).reshape((5, 2)), range(5)\r\n",
        "# 실습을 위해 임의로 X와 y가 이미 분리 된 데이터를 생성\r\n",
        "print(X)\r\n",
        "print(list(y)) #레이블 데이터"
      ],
      "execution_count": null,
      "outputs": []
    },
    {
      "cell_type": "code",
      "metadata": {
        "id": "R6dw7Yexlaa1"
      },
      "source": [
        "X_train, X_test, y_train, y_test = train_test_split(X, y, test_size=0.33, random_state=1234)\r\n",
        "#3분의 1만 test 데이터로 지정.\r\n",
        "#random_state 지정으로 인해 순서가 섞인 채로 훈련 데이터와 테스트 데이터가 나눠진다."
      ],
      "execution_count": null,
      "outputs": []
    },
    {
      "cell_type": "code",
      "metadata": {
        "id": "gcChme97uQIn"
      },
      "source": [
        "print(X_train)\r\n",
        "print(X_test)"
      ],
      "execution_count": null,
      "outputs": []
    },
    {
      "cell_type": "code",
      "metadata": {
        "id": "R7AOUTRpuV1n"
      },
      "source": [
        "print(y_train)\r\n",
        "print(y_test)"
      ],
      "execution_count": null,
      "outputs": []
    },
    {
      "cell_type": "code",
      "metadata": {
        "id": "rnvHpTVnuXxv"
      },
      "source": [
        "import numpy as np\r\n",
        "X, y = np.arange(0,24).reshape((12,2)), range(12)\r\n",
        "# 실습을 위해 임의로 X와 y가 이미 분리 된 데이터를 생성"
      ],
      "execution_count": null,
      "outputs": []
    },
    {
      "cell_type": "code",
      "metadata": {
        "id": "Dk8qsXy2uc5i"
      },
      "source": [
        "print(X)"
      ],
      "execution_count": null,
      "outputs": []
    },
    {
      "cell_type": "code",
      "metadata": {
        "id": "rxZww955udmr"
      },
      "source": [
        "print(list(y))"
      ],
      "execution_count": null,
      "outputs": []
    },
    {
      "cell_type": "code",
      "metadata": {
        "id": "eYgIlPbfuk8w"
      },
      "source": [
        "n_of_train = int(len(X) * 0.8) # 데이터의 전체 길이의 80%에 해당하는 길이값을 구한다.\r\n",
        "n_of_test = int(len(X) - n_of_train) # 전체 길이에서 80%에 해당하는 길이를 뺀다.\r\n",
        "print(n_of_train)\r\n",
        "print(n_of_test)"
      ],
      "execution_count": null,
      "outputs": []
    },
    {
      "cell_type": "code",
      "metadata": {
        "id": "p15N6RBNux8l"
      },
      "source": [
        "X_test = X[n_of_train:] #전체 데이터 중에서 20%만큼 뒤의 데이터 저장\r\n",
        "y_test = y[n_of_train:] #전체 데이터 중에서 20%만큼 뒤의 데이터 저장\r\n",
        "X_train = X[:n_of_train] #전체 데이터 중에서 80%만큼 앞의 데이터 저장\r\n",
        "y_train = y[:n_of_train] #전체 데이터 중에서 80%만큼 앞의 데이터 저장"
      ],
      "execution_count": null,
      "outputs": []
    },
    {
      "cell_type": "code",
      "metadata": {
        "id": "kVTc1yiou0s_"
      },
      "source": [
        "print(X_test)\r\n",
        "print(list(y_test))"
      ],
      "execution_count": null,
      "outputs": []
    },
    {
      "cell_type": "code",
      "metadata": {
        "id": "DiQAWUXPu2Ev"
      },
      "source": [
        ""
      ],
      "execution_count": null,
      "outputs": []
    }
  ]
}
