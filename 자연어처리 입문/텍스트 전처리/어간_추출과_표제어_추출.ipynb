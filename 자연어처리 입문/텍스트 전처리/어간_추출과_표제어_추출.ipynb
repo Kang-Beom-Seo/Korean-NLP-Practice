{
  "nbformat": 4,
  "nbformat_minor": 0,
  "metadata": {
    "colab": {
      "name": "어간 추출과 표제어 추출.ipynb",
      "private_outputs": true,
      "provenance": [],
      "collapsed_sections": [],
      "authorship_tag": "ABX9TyPVs2/Ct789H4Mmj22vBUjK",
      "include_colab_link": true
    },
    "kernelspec": {
      "name": "python3",
      "display_name": "Python 3"
    }
  },
  "cells": [
    {
      "cell_type": "markdown",
      "metadata": {
        "id": "view-in-github",
        "colab_type": "text"
      },
      "source": [
        "<a href=\"https://colab.research.google.com/github/Kang-Beom-Seo/Korean-NLP-Practice/blob/main/%EC%96%B4%EA%B0%84_%EC%B6%94%EC%B6%9C%EA%B3%BC_%ED%91%9C%EC%A0%9C%EC%96%B4_%EC%B6%94%EC%B6%9C.ipynb\" target=\"_parent\"><img src=\"https://colab.research.google.com/assets/colab-badge.svg\" alt=\"Open In Colab\"/></a>"
      ]
    },
    {
      "cell_type": "code",
      "metadata": {
        "id": "hFhXUwY5Nor4"
      },
      "source": [
        "from nltk.stem import WordNetLemmatizer\r\n",
        "n=WordNetLemmatizer() #Lemmatization은 표제어 추출로, 표제어란 한 단어의 뿌리단어(핵심의미를 담음, 조사를 제외함)를 의미한다.\r\n",
        "words=['policy', 'doing', 'organization', 'have', 'going', 'love', 'lives', 'fly', 'dies', 'watched', 'has', 'starting']\r\n",
        "print([n.lemmatize(w) for w in words])"
      ],
      "execution_count": null,
      "outputs": []
    },
    {
      "cell_type": "code",
      "metadata": {
        "id": "ePt7OAtxOoIz"
      },
      "source": [
        "n.lemmatize('dies', 'v') #이런식으로 품사정보를 같이 넘겨주면, 좀더 정확하게 표제어를 찾아준다."
      ],
      "execution_count": null,
      "outputs": []
    },
    {
      "cell_type": "code",
      "metadata": {
        "id": "8xNQ9s4ZPdjP"
      },
      "source": [
        "from nltk.stem import PorterStemmer #Stemming은 어간추출로, 위의 lemmatization보다는 단순하게 분석하여 추출하며, 그러므로 이 단어들은 사전에 없을 수 있다.\r\n",
        "from nltk.tokenize import word_tokenize\r\n",
        "s = PorterStemmer()\r\n",
        "text=\"This was not the map we found in Billy Bones's chest, but an accurate copy, complete in all things--names and heights and soundings--with the single exception of the red crosses and the written notes.\"\r\n",
        "words=word_tokenize(text)\r\n",
        "print(words)"
      ],
      "execution_count": null,
      "outputs": []
    },
    {
      "cell_type": "code",
      "metadata": {
        "id": "aauOt_B6QtJc"
      },
      "source": [
        "import nltk\r\n",
        "nltk.download('punkt')"
      ],
      "execution_count": null,
      "outputs": []
    },
    {
      "cell_type": "code",
      "metadata": {
        "id": "KHfIyyiqQxzf"
      },
      "source": [
        "print([s.stem(w) for w in words])"
      ],
      "execution_count": null,
      "outputs": []
    },
    {
      "cell_type": "code",
      "metadata": {
        "id": "bdlPktdwRKRK"
      },
      "source": [
        "words=['formalize', 'allowance', 'electricical']\r\n",
        "print([s.stem(w) for w in words]) #일반적으로 어간추출이 표제어추출보다 속도가 더 빠르다."
      ],
      "execution_count": null,
      "outputs": []
    },
    {
      "cell_type": "code",
      "metadata": {
        "id": "Sp71U_xURasa"
      },
      "source": [
        "from nltk.stem import LancasterStemmer\r\n",
        "l=LancasterStemmer() #위의 Porter와는 다른 알고리즘을 사용하는 Lancaster Stemmer이다. 결과가 다르게 나오게 된다.\r\n",
        "words=['policy', 'doing', 'organization', 'have', 'going', 'love', 'lives', 'fly', 'dies', 'watched', 'has', 'starting']\r\n",
        "print([l.stem(w) for w in words])"
      ],
      "execution_count": null,
      "outputs": []
    },
    {
      "cell_type": "code",
      "metadata": {
        "id": "Ku9PLCoVRq7m"
      },
      "source": [
        ""
      ],
      "execution_count": null,
      "outputs": []
    }
  ]
}
