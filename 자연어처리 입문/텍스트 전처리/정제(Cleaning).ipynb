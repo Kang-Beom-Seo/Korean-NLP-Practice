{
  "nbformat": 4,
  "nbformat_minor": 0,
  "metadata": {
    "colab": {
      "name": "정제(Cleaning).ipynb",
      "private_outputs": true,
      "provenance": [],
      "collapsed_sections": [],
      "authorship_tag": "ABX9TyOPqLEYtJTbRwlg4BWW8fXF",
      "include_colab_link": true
    },
    "kernelspec": {
      "name": "python3",
      "display_name": "Python 3"
    }
  },
  "cells": [
    {
      "cell_type": "markdown",
      "metadata": {
        "id": "view-in-github",
        "colab_type": "text"
      },
      "source": [
        "<a href=\"https://colab.research.google.com/github/Kang-Beom-Seo/Korean-NLP-Practice/blob/main/%EC%A0%95%EC%A0%9C(Cleaning).ipynb\" target=\"_parent\"><img src=\"https://colab.research.google.com/assets/colab-badge.svg\" alt=\"Open In Colab\"/></a>"
      ]
    },
    {
      "cell_type": "code",
      "metadata": {
        "id": "iWOrzpxLGua5"
      },
      "source": [
        "import re #regular expression(정규 표현식)의 줄임말로, 정규 표현식 이용시 사용하는 모듈이다.\r\n",
        "text = \"I was wondering if anyone out there could enlighten me on this car.\"\r\n",
        "shortword = re.compile(r'\\W*\\b\\w{1,2}\\b') #compile안에 들어가는 건 정규 표현식이며, 이 표현식은 다음과 같다.\r\n",
        "                                          # \\W는 non-word, 즉 알파벳,숫자,_가 아닌것이며, \\w는 반대로 word이다. \\b는 boundary로, 단어와 공백 사이의 경계구간을 의미한다.\r\n",
        "                                          # *은 0번 이상 반복을 의미하고, {1, 2}는 1~2번 반복을 의미한다.\r\n",
        "                                          # 그러므로, \\W인 non-word가 0번이상 반복,  \\w인 word가 1개 혹은 2개가 있으며, 그 앞뒤는 boundary로 싸여있는 것이다.\r\n",
        "                                          # non-word(0개이상) |문자1~2개| => 즉 1~2길이의 단어(앞의 non-word는 길이에 안들어감)를 찾는 정규식이다.\r\n",
        "                                          # \\W가 들어간 이유는, 저게 없으면 문장 중간에 공백이 많이 남을수 있다.\r\n",
        "print(shortword.sub('', text)) #text에 있는 문장에서 위의 표현식(1~2길이 단어)를 적용하여 매치한 단어들을 공백으로 만든다. 즉 제거한다."
      ],
      "execution_count": null,
      "outputs": []
    },
    {
      "cell_type": "code",
      "metadata": {
        "id": "LrbkGTZCGwpp"
      },
      "source": [
        ""
      ],
      "execution_count": null,
      "outputs": []
    }
  ]
}
