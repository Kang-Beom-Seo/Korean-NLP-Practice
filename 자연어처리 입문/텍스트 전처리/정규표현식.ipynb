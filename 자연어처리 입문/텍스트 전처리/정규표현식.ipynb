{
  "nbformat": 4,
  "nbformat_minor": 0,
  "metadata": {
    "colab": {
      "name": "정규표현식.ipynb",
      "private_outputs": true,
      "provenance": [],
      "collapsed_sections": [],
      "authorship_tag": "ABX9TyPzAd/b6S7Yb3MwikaRT+Ru",
      "include_colab_link": true
    },
    "kernelspec": {
      "name": "python3",
      "display_name": "Python 3"
    }
  },
  "cells": [
    {
      "cell_type": "markdown",
      "metadata": {
        "id": "view-in-github",
        "colab_type": "text"
      },
      "source": [
        "<a href=\"https://colab.research.google.com/github/Kang-Beom-Seo/Korean-NLP-Practice/blob/main/%EC%A0%95%EA%B7%9C%ED%91%9C%ED%98%84%EC%8B%9D.ipynb\" target=\"_parent\"><img src=\"https://colab.research.google.com/assets/colab-badge.svg\" alt=\"Open In Colab\"/></a>"
      ]
    },
    {
      "cell_type": "code",
      "metadata": {
        "id": "9hUBNRXhqNxV"
      },
      "source": [
        "import re\r\n",
        "r=re.compile(\"a.c\") #.은 1개의 임의의 문자로 a와c사이의 임의문자 하나가 온다.\r\n",
        "r.search(\"kkk\") # 아무런 결과도 출력되지 않는다."
      ],
      "execution_count": null,
      "outputs": []
    },
    {
      "cell_type": "code",
      "metadata": {
        "id": "DWjsG3yj0lbC"
      },
      "source": [
        "r.search(\"abc\")"
      ],
      "execution_count": null,
      "outputs": []
    },
    {
      "cell_type": "code",
      "metadata": {
        "id": "70540cP-0qbx"
      },
      "source": [
        "r=re.compile(\"ab?c\") #?는 있을수도 있고 없을수도 있다. 0개 혹은 1개\r\n",
        "r.search(\"abbc\") # 아무런 결과도 출력되지 않는다."
      ],
      "execution_count": null,
      "outputs": []
    },
    {
      "cell_type": "code",
      "metadata": {
        "id": "exVJYaho07Rs"
      },
      "source": [
        "r.search(\"abc\")"
      ],
      "execution_count": null,
      "outputs": []
    },
    {
      "cell_type": "code",
      "metadata": {
        "id": "UYa8pa_10_y8"
      },
      "source": [
        "r.search(\"ac\")"
      ],
      "execution_count": null,
      "outputs": []
    },
    {
      "cell_type": "code",
      "metadata": {
        "id": "1hPjMhrw1BWW"
      },
      "source": [
        "r=re.compile(\"ab*c\") #*은 0개 이상이다.\r\n",
        "r.search(\"a\") # 아무런 결과도 출력되지 않는다."
      ],
      "execution_count": null,
      "outputs": []
    },
    {
      "cell_type": "code",
      "metadata": {
        "id": "Xm-ZEhjC1UC5"
      },
      "source": [
        "r.search(\"ac\")"
      ],
      "execution_count": null,
      "outputs": []
    },
    {
      "cell_type": "code",
      "metadata": {
        "id": "3a9pzoEk1Vn9"
      },
      "source": [
        "r.search(\"abc\") "
      ],
      "execution_count": null,
      "outputs": []
    },
    {
      "cell_type": "code",
      "metadata": {
        "id": "EI-CEksJ1bO1"
      },
      "source": [
        "r.search(\"abbbbc\") "
      ],
      "execution_count": null,
      "outputs": []
    },
    {
      "cell_type": "code",
      "metadata": {
        "id": "HwIzCBCz1cRm"
      },
      "source": [
        "r=re.compile(\"ab+c\") #+는 1개 이상이다.\r\n",
        "r.search(\"ac\") # 아무런 결과도 출력되지 않는다."
      ],
      "execution_count": null,
      "outputs": []
    },
    {
      "cell_type": "code",
      "metadata": {
        "id": "FTnuBIQL1fv5"
      },
      "source": [
        "r.search(\"abc\") "
      ],
      "execution_count": null,
      "outputs": []
    },
    {
      "cell_type": "code",
      "metadata": {
        "id": "XI-XS8Ol1imB"
      },
      "source": [
        "r.search(\"abbbbc\") "
      ],
      "execution_count": null,
      "outputs": []
    },
    {
      "cell_type": "code",
      "metadata": {
        "id": "w1_OTUJd1j2_"
      },
      "source": [
        "r=re.compile(\"^a\") #^는 시작되는 글자를 지정한다.\r\n",
        "r.search(\"bbc\") # 아무런 결과도 출력되지 않는다."
      ],
      "execution_count": null,
      "outputs": []
    },
    {
      "cell_type": "code",
      "metadata": {
        "id": "FSZR-T5b1m-G"
      },
      "source": [
        "r.search(\"ab\")"
      ],
      "execution_count": null,
      "outputs": []
    },
    {
      "cell_type": "code",
      "metadata": {
        "id": "CFbNaFSD1qWY"
      },
      "source": [
        "r=re.compile(\"ab{2}c\") #{숫자}는 숫자만큼 반복한다.\r\n",
        "r.search(\"ac\") # 아무런 결과도 출력되지 않는다.\r\n",
        "r.search(\"abc\") # 아무런 결과도 출력되지 않는다."
      ],
      "execution_count": null,
      "outputs": []
    },
    {
      "cell_type": "code",
      "metadata": {
        "id": "NXBZfOyC1xSZ"
      },
      "source": [
        "r.search(\"abbc\")"
      ],
      "execution_count": null,
      "outputs": []
    },
    {
      "cell_type": "code",
      "metadata": {
        "id": "h3t5m0q91y3E"
      },
      "source": [
        "r.search(\"abbbbbc\") # 아무런 결과도 출력되지 않는다."
      ],
      "execution_count": null,
      "outputs": []
    },
    {
      "cell_type": "code",
      "metadata": {
        "id": "mw9vxpXu10XZ"
      },
      "source": [
        "r=re.compile(\"ab{2,8}c\") #2번이상 8번이하만큼 반복한다.\r\n",
        "r.search(\"ac\") # 아무런 결과도 출력되지 않는다.\r\n",
        "r.search(\"ac\") # 아무런 결과도 출력되지 않는다.\r\n",
        "r.search(\"abc\") # 아무런 결과도 출력되지 않는다."
      ],
      "execution_count": null,
      "outputs": []
    },
    {
      "cell_type": "code",
      "metadata": {
        "id": "yn8KNYdq9SE2"
      },
      "source": [
        "r.search(\"abbc\")"
      ],
      "execution_count": null,
      "outputs": []
    },
    {
      "cell_type": "code",
      "metadata": {
        "id": "H4nqtVfs9Vow"
      },
      "source": [
        "r.search(\"abbbbbbbbc\")"
      ],
      "execution_count": null,
      "outputs": []
    },
    {
      "cell_type": "code",
      "metadata": {
        "id": "WjQ51w0g9ZQM"
      },
      "source": [
        "r.search(\"abbbbbbbbbc\") # 아무런 결과도 출력되지 않는다."
      ],
      "execution_count": null,
      "outputs": []
    },
    {
      "cell_type": "code",
      "metadata": {
        "id": "h-SbZfsC9bG-"
      },
      "source": [
        "r=re.compile(\"a{2,}bc\") #2번 이상 반복한다.\r\n",
        "r.search(\"bc\") # 아무런 결과도 출력되지 않는다.\r\n",
        "r.search(\"aa\") # 아무런 결과도 출력되지 않는다."
      ],
      "execution_count": null,
      "outputs": []
    },
    {
      "cell_type": "code",
      "metadata": {
        "id": "MNCPkU779fKu"
      },
      "source": [
        "r.search(\"aabc\")"
      ],
      "execution_count": null,
      "outputs": []
    },
    {
      "cell_type": "code",
      "metadata": {
        "id": "KZQqPbtB97Ug"
      },
      "source": [
        "r.search(\"aaaaaaaabc\")"
      ],
      "execution_count": null,
      "outputs": []
    },
    {
      "cell_type": "code",
      "metadata": {
        "id": "cqK0TZ6L98X0"
      },
      "source": [
        "r=re.compile(\"[abc]\") # []는 안에 있는 문자중 하나와 매치된다. [abc]는 [a-c]와 같다.\r\n",
        "r.search(\"zzz\") # 아무런 결과도 출력되지 않는다."
      ],
      "execution_count": null,
      "outputs": []
    },
    {
      "cell_type": "code",
      "metadata": {
        "id": "KqHxKh_k-F5D"
      },
      "source": [
        "r.search(\"a\")"
      ],
      "execution_count": null,
      "outputs": []
    },
    {
      "cell_type": "code",
      "metadata": {
        "id": "sCb3QC2k-IqS"
      },
      "source": [
        "r.search(\"aaaaaaa\")   "
      ],
      "execution_count": null,
      "outputs": []
    },
    {
      "cell_type": "code",
      "metadata": {
        "id": "dUxP158P-J50"
      },
      "source": [
        "r.search(\"baac\")  "
      ],
      "execution_count": null,
      "outputs": []
    },
    {
      "cell_type": "code",
      "metadata": {
        "id": "zdQtgUvp-L--"
      },
      "source": [
        "r=re.compile(\"[^abc]\") #[^문자]는 ^뒤에 있는 문자들을 제외한 모든 문자와 매치된다.\r\n",
        "r.search(\"a\") # 아무런 결과도 출력되지 않는다.\r\n",
        "r.search(\"ab\") # 아무런 결과도 출력되지 않는다.\r\n",
        "r.search(\"b\") # 아무런 결과도 출력되지 않는다."
      ],
      "execution_count": null,
      "outputs": []
    },
    {
      "cell_type": "code",
      "metadata": {
        "id": "LHBBI8fS-bj4"
      },
      "source": [
        "r.search(\"d\")"
      ],
      "execution_count": null,
      "outputs": []
    },
    {
      "cell_type": "code",
      "metadata": {
        "id": "koleN7oC-dJb"
      },
      "source": [
        "r.search(\"1\") "
      ],
      "execution_count": null,
      "outputs": []
    },
    {
      "cell_type": "code",
      "metadata": {
        "id": "YAUEZ9Zl-eEy"
      },
      "source": [
        "r=re.compile(\"ab.\")"
      ],
      "execution_count": null,
      "outputs": []
    },
    {
      "cell_type": "code",
      "metadata": {
        "id": "CnSBIa3Q-7c2"
      },
      "source": [
        "r.search(\"kkkabc\") #search는 문자열 전체에 대해서 검사한다."
      ],
      "execution_count": null,
      "outputs": []
    },
    {
      "cell_type": "code",
      "metadata": {
        "id": "pDti0n4N-8nf"
      },
      "source": [
        "r.match(\"kkkabc\")  #아무런 결과도 출력되지 않는다."
      ],
      "execution_count": null,
      "outputs": []
    },
    {
      "cell_type": "code",
      "metadata": {
        "id": "GEz7G6sW--HJ"
      },
      "source": [
        "r.match(\"abckkk\")  #match는 문자열의 첫부분부터 매치되는지 검사한다."
      ],
      "execution_count": null,
      "outputs": []
    },
    {
      "cell_type": "code",
      "metadata": {
        "id": "3Ur37nO4-_H1"
      },
      "source": [
        "text=\"사과 딸기 수박 메론 바나나\"\r\n",
        "re.split(\" \",text) #split은 정규표현식을 기준으로 문자열을 분리하여 리스트로 리턴한다."
      ],
      "execution_count": null,
      "outputs": []
    },
    {
      "cell_type": "code",
      "metadata": {
        "id": "s_uAdh05_SfR"
      },
      "source": [
        "text=\"\"\"사과\r\n",
        "딸기\r\n",
        "수박\r\n",
        "메론\r\n",
        "바나나\"\"\"\r\n",
        "re.split(\"\\n\",text)"
      ],
      "execution_count": null,
      "outputs": []
    },
    {
      "cell_type": "code",
      "metadata": {
        "id": "RZC8noA-_WRO"
      },
      "source": [
        "text=\"사과+딸기+수박+메론+바나나\"\r\n",
        "re.split(\"\\+\",text)\r\n",
        "['사과', '딸기', '수박', '메론', '바나나']  "
      ],
      "execution_count": null,
      "outputs": []
    },
    {
      "cell_type": "code",
      "metadata": {
        "id": "c1OuicW-_ZgP"
      },
      "source": [
        "text=\"\"\"이름 : 김철수\r\n",
        "전화번호 : 010 - 1234 - 1234\r\n",
        "나이 : 30\r\n",
        "성별 : 남\"\"\"  \r\n",
        "re.findall(\"\\d+\",text) #해당되는 문자열들 전부를 리스트로 리턴한다."
      ],
      "execution_count": null,
      "outputs": []
    },
    {
      "cell_type": "code",
      "metadata": {
        "id": "WNsBC2N8_oLG"
      },
      "source": [
        "re.findall(\"\\d+\", \"문자열입니다.\") #없으면 빈 리스트가 리턴된다."
      ],
      "execution_count": null,
      "outputs": []
    },
    {
      "cell_type": "code",
      "metadata": {
        "id": "qQL8o-1e_rQQ"
      },
      "source": [
        "text=\"Regular expression : A regular expression, regex or regexp[1] (sometimes called a rational expression)[2][3] is, in theoretical computer science and formal language theory, a sequence of characters that define a search pattern.\"\r\n",
        "re.sub('[^a-zA-Z]',' ',text) #sub는 표현식 패턴과 일치하는 문자열을 다른 문자열로 대체할 수 있다."
      ],
      "execution_count": null,
      "outputs": []
    },
    {
      "cell_type": "code",
      "metadata": {
        "id": "fcRcMnCS_zJa"
      },
      "source": [
        "text = \"\"\"100 John    PROF\r\n",
        "101 James   STUD\r\n",
        "102 Mac   STUD\"\"\"  \r\n",
        "\r\n",
        "re.split('\\s+', text) #\\s는 공백을 찾아내는 정규표현식이다."
      ],
      "execution_count": null,
      "outputs": []
    },
    {
      "cell_type": "code",
      "metadata": {
        "id": "7zjt1tkZAJZ7"
      },
      "source": [
        "re.findall('\\d+',text) #\\d는 숫자에 해당하는 정규표현식이다."
      ],
      "execution_count": null,
      "outputs": []
    },
    {
      "cell_type": "code",
      "metadata": {
        "id": "PKfB21BXAU8W"
      },
      "source": [
        "re.findall('[A-Z]{4}',text)  #일반적인 단어를 가져온다. "
      ],
      "execution_count": null,
      "outputs": []
    },
    {
      "cell_type": "code",
      "metadata": {
        "id": "u24TAEgJApf-"
      },
      "source": [
        "re.findall('[A-Z][a-z]+',text) #이름을 가져온다."
      ],
      "execution_count": null,
      "outputs": []
    },
    {
      "cell_type": "code",
      "metadata": {
        "id": "QE-UNsq2Jt0C"
      },
      "source": [
        "letters_only = re.sub('[^a-zA-Z]', ' ', text) #영문자만 남긴다."
      ],
      "execution_count": null,
      "outputs": []
    },
    {
      "cell_type": "code",
      "metadata": {
        "id": "4fTWm69UJ0Rc"
      },
      "source": [
        "print(letters_only)"
      ],
      "execution_count": null,
      "outputs": []
    },
    {
      "cell_type": "code",
      "metadata": {
        "id": "9Txqu8RqJ2Pu"
      },
      "source": [
        "from nltk.tokenize import RegexpTokenizer\r\n",
        "tokenizer=RegexpTokenizer(\"[\\w]+\") #문자 또는 숫자 1개 이상을 인식함.\r\n",
        "print(tokenizer.tokenize(\"Don't be fooled by the dark sounding name, Mr. Jone's Orphanage is as cheery as cheery goes for a pastry shop\"))"
      ],
      "execution_count": null,
      "outputs": []
    },
    {
      "cell_type": "code",
      "metadata": {
        "id": "nFsabJ3dKAx9"
      },
      "source": [
        "from nltk.tokenize import RegexpTokenizer\r\n",
        "tokenizer=RegexpTokenizer(\"[\\s]+\", gaps=True) #gaps=True는 해당 표현식을 토큰화의 기준으로 삼는다는 의미다.\r\n",
        "print(tokenizer.tokenize(\"Don't be fooled by the dark sounding name, Mr. Jone's Orphanage is as cheery as cheery goes for a pastry shop\"))"
      ],
      "execution_count": null,
      "outputs": []
    },
    {
      "cell_type": "code",
      "metadata": {
        "id": "G3B3_C6UKl6H"
      },
      "source": [
        ""
      ],
      "execution_count": null,
      "outputs": []
    }
  ]
}
