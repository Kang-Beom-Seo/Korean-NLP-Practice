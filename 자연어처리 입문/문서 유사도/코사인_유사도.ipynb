{
  "nbformat": 4,
  "nbformat_minor": 0,
  "metadata": {
    "colab": {
      "name": "코사인 유사도.ipynb",
      "private_outputs": true,
      "provenance": [],
      "collapsed_sections": [],
      "authorship_tag": "ABX9TyNyMl+rLJc1PuTVRvI/iqR0",
      "include_colab_link": true
    },
    "kernelspec": {
      "name": "python3",
      "display_name": "Python 3"
    }
  },
  "cells": [
    {
      "cell_type": "markdown",
      "metadata": {
        "id": "view-in-github",
        "colab_type": "text"
      },
      "source": [
        "<a href=\"https://colab.research.google.com/github/Kang-Beom-Seo/Korean-NLP-Practice/blob/main/%EC%BD%94%EC%82%AC%EC%9D%B8_%EC%9C%A0%EC%82%AC%EB%8F%84.ipynb\" target=\"_parent\"><img src=\"https://colab.research.google.com/assets/colab-badge.svg\" alt=\"Open In Colab\"/></a>"
      ]
    },
    {
      "cell_type": "code",
      "metadata": {
        "id": "Byc2rnDKPed_"
      },
      "source": [
        "from numpy import dot\r\n",
        "from numpy.linalg import norm\r\n",
        "import numpy as np\r\n",
        "def cos_sim(A, B):\r\n",
        "       return dot(A, B)/(norm(A)*norm(B)) #노름은 L2노름(유클리드 노름)"
      ],
      "execution_count": null,
      "outputs": []
    },
    {
      "cell_type": "code",
      "metadata": {
        "id": "5BGSgpwsPe9b"
      },
      "source": [
        "doc1=np.array([0,1,1,1])\r\n",
        "doc2=np.array([1,0,1,1])\r\n",
        "doc3=np.array([2,0,2,2])"
      ],
      "execution_count": null,
      "outputs": []
    },
    {
      "cell_type": "code",
      "metadata": {
        "id": "XSB1QC6BStKJ"
      },
      "source": [
        "print(cos_sim(doc1, doc2)) #문서1과 문서2의 코사인 유사도\r\n",
        "print(cos_sim(doc1, doc3)) #문서1과 문서3의 코사인 유사도\r\n",
        "print(cos_sim(doc2, doc3)) #문서2과 문서3의 코사인 유사도"
      ],
      "execution_count": null,
      "outputs": []
    },
    {
      "cell_type": "code",
      "metadata": {
        "id": "wIIeLchPSw1L"
      },
      "source": [
        "from google.colab import drive\r\n",
        "drive.mount('/content/drive')"
      ],
      "execution_count": null,
      "outputs": []
    },
    {
      "cell_type": "code",
      "metadata": {
        "id": "r6jSCAtHUrFI"
      },
      "source": [
        "import pandas as pd\r\n",
        "from sklearn.feature_extraction.text import TfidfVectorizer\r\n",
        "from sklearn.metrics.pairwise import linear_kernel"
      ],
      "execution_count": null,
      "outputs": []
    },
    {
      "cell_type": "code",
      "metadata": {
        "id": "Z0P1J0JlUB30"
      },
      "source": [
        "data = pd.read_csv('/content/drive/My Drive/TensorFlow_tutorial/문서 유사도/movies_metadata.csv', low_memory=False)\r\n",
        "data.head(2)"
      ],
      "execution_count": null,
      "outputs": []
    },
    {
      "cell_type": "code",
      "metadata": {
        "id": "l0UVSMENUlkF"
      },
      "source": [
        "data = data.head(20000) #20000개의 샘플만 이용"
      ],
      "execution_count": null,
      "outputs": []
    },
    {
      "cell_type": "code",
      "metadata": {
        "id": "_1iKUp4WVMYz"
      },
      "source": [
        "data['overview'].isnull().sum() #overview 열에 null값이 총 135개 존재"
      ],
      "execution_count": null,
      "outputs": []
    },
    {
      "cell_type": "code",
      "metadata": {
        "id": "JxTrHLAwVS8H"
      },
      "source": [
        "# overview에서 Null 값을 가진 경우에는 Null 값을 제거\r\n",
        "data['overview'] = data['overview'].fillna('')"
      ],
      "execution_count": null,
      "outputs": []
    },
    {
      "cell_type": "code",
      "metadata": {
        "id": "By0PenHhW5rp"
      },
      "source": [
        "tfidf = TfidfVectorizer(stop_words='english')\r\n",
        "# overview에 대해서 tf-idf 수행\r\n",
        "tfidf_matrix = tfidf.fit_transform(data['overview'])\r\n",
        "print(tfidf_matrix.shape) # 총 47487개의 단어가 존재한다."
      ],
      "execution_count": null,
      "outputs": []
    },
    {
      "cell_type": "code",
      "metadata": {
        "id": "mVsu5WzEXC3w"
      },
      "source": [
        "cosine_sim = linear_kernel(tfidf_matrix, tfidf_matrix)"
      ],
      "execution_count": null,
      "outputs": []
    },
    {
      "cell_type": "code",
      "metadata": {
        "id": "0WobZvvUXO84"
      },
      "source": [
        "cosine_sim.shape"
      ],
      "execution_count": null,
      "outputs": []
    },
    {
      "cell_type": "code",
      "metadata": {
        "id": "02mDrrBkZAZE"
      },
      "source": [
        "indices = pd.Series(data.index, index=data['title']).drop_duplicates() #영화의 title을 입력시 인덱스가 리턴됨.\r\n",
        "print(indices.head())"
      ],
      "execution_count": null,
      "outputs": []
    },
    {
      "cell_type": "code",
      "metadata": {
        "id": "t5_1HSvbZQNs"
      },
      "source": [
        "idx = indices['Father of the Bride Part II']\r\n",
        "print(idx)"
      ],
      "execution_count": null,
      "outputs": []
    },
    {
      "cell_type": "code",
      "metadata": {
        "id": "D3iQf3y_ZTOS"
      },
      "source": [
        "def get_recommendations(title, cosine_sim=cosine_sim):\r\n",
        "    # 선택한 영화의 타이틀로부터 해당되는 인덱스를 받아옵니다. 이제 선택한 영화를 가지고 연산할 수 있습니다.\r\n",
        "    idx = indices[title]\r\n",
        "\r\n",
        "    # 모든 영화에 대해서 해당 영화와의 유사도를 구합니다.\r\n",
        "    sim_scores = list(enumerate(cosine_sim[idx])) #enumerate는 (index, value)의 형태로 열거된다.\r\n",
        "\r\n",
        "    # 유사도에 따라 영화들을 정렬합니다.\r\n",
        "    sim_scores = sorted(sim_scores, key=lambda x: x[1], reverse=True) #reverse=True이므로 내림차순\r\n",
        "\r\n",
        "    # 가장 유사한 10개의 영화를 받아옵니다.\r\n",
        "    sim_scores = sim_scores[1:11] #1부터 시작하는 이유는 아마 가장 유사한 영화는 그 영화 그자체이므로 제외하는 것이다.\r\n",
        "\r\n",
        "    # 가장 유사한 10개의 영화의 인덱스를 받아옵니다.\r\n",
        "    movie_indices = [i[0] for i in sim_scores]\r\n",
        "\r\n",
        "    # 가장 유사한 10개의 영화의 제목을 리턴합니다.\r\n",
        "    return data['title'].iloc[movie_indices]"
      ],
      "execution_count": null,
      "outputs": []
    },
    {
      "cell_type": "code",
      "metadata": {
        "id": "rIR5FFlmZ4KW"
      },
      "source": [
        "get_recommendations('The Dark Knight Rises')"
      ],
      "execution_count": null,
      "outputs": []
    },
    {
      "cell_type": "code",
      "metadata": {
        "id": "tJYV9wwKa7-8"
      },
      "source": [
        ""
      ],
      "execution_count": null,
      "outputs": []
    }
  ]
}
