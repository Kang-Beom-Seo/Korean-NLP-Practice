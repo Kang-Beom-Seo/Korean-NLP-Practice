{
  "nbformat": 4,
  "nbformat_minor": 0,
  "metadata": {
    "colab": {
      "name": "다중 입력에 대한 실습.ipynb",
      "private_outputs": true,
      "provenance": [],
      "collapsed_sections": [],
      "authorship_tag": "ABX9TyMGDVT/f2F+uW0i92+18AAi",
      "include_colab_link": true
    },
    "kernelspec": {
      "name": "python3",
      "display_name": "Python 3"
    }
  },
  "cells": [
    {
      "cell_type": "markdown",
      "metadata": {
        "id": "view-in-github",
        "colab_type": "text"
      },
      "source": [
        "<a href=\"https://colab.research.google.com/github/Kang-Beom-Seo/Korean-NLP-Practice/blob/main/%EB%8B%A4%EC%A4%91_%EC%9E%85%EB%A0%A5%EC%97%90_%EB%8C%80%ED%95%9C_%EC%8B%A4%EC%8A%B5.ipynb\" target=\"_parent\"><img src=\"https://colab.research.google.com/assets/colab-badge.svg\" alt=\"Open In Colab\"/></a>"
      ]
    },
    {
      "cell_type": "code",
      "metadata": {
        "id": "myNy3d92ukrc"
      },
      "source": [
        "import numpy as np\r\n",
        "from tensorflow.keras.models import Sequential # 케라스의 Sequential()을 임포트\r\n",
        "from tensorflow.keras.layers import Dense # 케라스의 Dense()를 임포트\r\n",
        "from tensorflow.keras import optimizers # 케라스의 옵티마이저를 임포트\r\n",
        "\r\n",
        "X=np.array([[70,85,11],[71,89,18],[50,80,20],[99,20,10],[50,10,10]]) # 중간, 기말, 가산점\r\n",
        "# 입력 벡터의 차원은 3입니다. 즉, input_dim은 3입니다.\r\n",
        "y=np.array([73,82,72,57,34]) # 최종 성적\r\n",
        "# 출력 벡터의 차원은 1입니다. 즉, output_dim은 1입니다.\r\n",
        "\r\n",
        "model=Sequential()\r\n",
        "model.add(Dense(1, input_dim=3, activation='linear'))\r\n",
        "sgd=optimizers.SGD(lr=0.00001)\r\n",
        "# 학습률(learning rate, lr)은 0.00001로 합니다.\r\n",
        "model.compile(optimizer=sgd ,loss='mse',metrics=['mse'])\r\n",
        "# sgd는 경사 하강법을 의미.\r\n",
        "# 손실 함수(Loss function)은 평균제곱오차 mse를 사용합니다.\r\n",
        "model.fit(X,y, batch_size=1, epochs=2000, shuffle=False)\r\n",
        "# 주어진 X와 y데이터에 대해서 오차를 최소화하는 작업을 2,000번 시도합니다."
      ],
      "execution_count": null,
      "outputs": []
    },
    {
      "cell_type": "code",
      "metadata": {
        "id": "iLQFU80kus4I"
      },
      "source": [
        "print(model.predict(X))"
      ],
      "execution_count": null,
      "outputs": []
    },
    {
      "cell_type": "code",
      "metadata": {
        "id": "Qcm0lIGSvw0T"
      },
      "source": [
        "X_test=np.array([[20,99,10],[40,50,20]]) # 각각 58점과 56점을 예측해야 합니다.\r\n",
        "print(model.predict(X_test))"
      ],
      "execution_count": null,
      "outputs": []
    },
    {
      "cell_type": "code",
      "metadata": {
        "id": "_jlIsaOev22z"
      },
      "source": [
        "import numpy as np\r\n",
        "X=np.array([[0, 0], [0, 1], [1, 0], [1, 1]])\r\n",
        "# 입력 벡터의 차원은 2입니다. 즉, input_dim은 2입니다.\r\n",
        "y=np.array([0, 1, 1, 1])\r\n",
        "# 출력 벡터의 차원은 1입니다. 즉, output_dim은 1입니다.\r\n",
        "#OR게이트 관련 내용"
      ],
      "execution_count": null,
      "outputs": []
    },
    {
      "cell_type": "code",
      "metadata": {
        "id": "UfmLJI6FweXu"
      },
      "source": [
        "from tensorflow.keras.models import Sequential # 케라스의 Sequential()을 임포트\r\n",
        "from tensorflow.keras.layers import Dense # 케라스의 Dense()를 임포트\r\n",
        "from tensorflow.keras import optimizers # 케라스의 옵티마이저를 임포트\r\n",
        "\r\n",
        "model=Sequential()\r\n",
        "model.add(Dense(1, input_dim=2, activation='sigmoid')) # 이제 입력의 차원은 2입니다.\r\n",
        "model.compile(optimizer='sgd' ,loss='binary_crossentropy',metrics=['binary_accuracy'])\r\n",
        "# sgd는 경사 하강법을 의미.\r\n",
        "# 손실 함수(Loss function)는 binary_crossentropy(이진 크로스 엔트로피)를 사용합니다.\r\n",
        "model.fit(X,y, batch_size=1, epochs=800, shuffle=False)\r\n",
        "# 주어진 X와 y데이터에 대해서 오차를 최소화하는 작업을 800번 시도합니다."
      ],
      "execution_count": null,
      "outputs": []
    },
    {
      "cell_type": "code",
      "metadata": {
        "id": "WGKr1mI5wk0n"
      },
      "source": [
        "print(model.predict(X))"
      ],
      "execution_count": null,
      "outputs": []
    },
    {
      "cell_type": "code",
      "metadata": {
        "id": "D6NVVPcgxJ1h"
      },
      "source": [
        ""
      ],
      "execution_count": null,
      "outputs": []
    }
  ]
}
