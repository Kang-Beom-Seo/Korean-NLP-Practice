{
  "nbformat": 4,
  "nbformat_minor": 0,
  "metadata": {
    "colab": {
      "name": "로지스틱 회귀.ipynb",
      "private_outputs": true,
      "provenance": [],
      "collapsed_sections": [],
      "authorship_tag": "ABX9TyNDg8NurLke+ZMAAz6L9bGc",
      "include_colab_link": true
    },
    "kernelspec": {
      "name": "python3",
      "display_name": "Python 3"
    }
  },
  "cells": [
    {
      "cell_type": "markdown",
      "metadata": {
        "id": "view-in-github",
        "colab_type": "text"
      },
      "source": [
        "<a href=\"https://colab.research.google.com/github/Kang-Beom-Seo/Korean-NLP-Practice/blob/main/%EB%A1%9C%EC%A7%80%EC%8A%A4%ED%8B%B1_%ED%9A%8C%EA%B7%80.ipynb\" target=\"_parent\"><img src=\"https://colab.research.google.com/assets/colab-badge.svg\" alt=\"Open In Colab\"/></a>"
      ]
    },
    {
      "cell_type": "code",
      "metadata": {
        "id": "R6AqSHlULEAg"
      },
      "source": [
        "%matplotlib inline\r\n",
        "import numpy as np # 넘파이 사용\r\n",
        "import matplotlib.pyplot as plt # 맷플롯립 사용"
      ],
      "execution_count": null,
      "outputs": []
    },
    {
      "cell_type": "code",
      "metadata": {
        "id": "kxV5zEO5LEkN"
      },
      "source": [
        "def sigmoid(x):\r\n",
        "    return 1/(1+np.exp(-x))\r\n",
        "x = np.arange(-5.0, 5.0, 0.1)\r\n",
        "y = sigmoid(x)\r\n",
        "\r\n",
        "plt.plot(x, y, 'g') #'g'는 그래프 선이 녹색\r\n",
        "plt.plot([0,0],[1.0,0.0], ':') # 가운데 점선 추가\r\n",
        "plt.title('Sigmoid Function')\r\n",
        "plt.show()"
      ],
      "execution_count": null,
      "outputs": []
    },
    {
      "cell_type": "code",
      "metadata": {
        "id": "DlJxfLN1LXC6"
      },
      "source": [
        "def sigmoid(x):\r\n",
        "    return 1/(1+np.exp(-x))\r\n",
        "x = np.arange(-5.0, 5.0, 0.1)\r\n",
        "y1 = sigmoid(0.5*x)\r\n",
        "y2 = sigmoid(x)\r\n",
        "y3 = sigmoid(2*x)\r\n",
        "\r\n",
        "plt.plot(x, y1, 'r', linestyle='--') # W의 값이 0.5일때\r\n",
        "plt.plot(x, y2, 'g') # W의 값이 1일때\r\n",
        "plt.plot(x, y3, 'b', linestyle='--') # W의 값이 2일때\r\n",
        "plt.plot([0,0],[1.0,0.0], ':') # 가운데 점선 추가\r\n",
        "plt.title('Sigmoid Function')\r\n",
        "plt.show()"
      ],
      "execution_count": null,
      "outputs": []
    },
    {
      "cell_type": "code",
      "metadata": {
        "id": "dI3BBd9YLvTp"
      },
      "source": [
        "def sigmoid(x):\r\n",
        "    return 1/(1+np.exp(-x))\r\n",
        "x = np.arange(-5.0, 5.0, 0.1)\r\n",
        "y1 = sigmoid(x+0.5)\r\n",
        "y2 = sigmoid(x+1)\r\n",
        "y3 = sigmoid(x+1.5)\r\n",
        "\r\n",
        "plt.plot(x, y1, 'r', linestyle='--') # x + 0.5\r\n",
        "plt.plot(x, y2, 'g') # x + 1\r\n",
        "plt.plot(x, y3, 'b', linestyle='--') # x + 1.5\r\n",
        "plt.plot([0,0],[1.0,0.0], ':') # 가운데 점선 추가\r\n",
        "plt.title('Sigmoid Function')\r\n",
        "plt.show()"
      ],
      "execution_count": null,
      "outputs": []
    },
    {
      "cell_type": "code",
      "metadata": {
        "id": "_tj_TcBLMHH2"
      },
      "source": [
        ""
      ],
      "execution_count": null,
      "outputs": []
    }
  ]
}
