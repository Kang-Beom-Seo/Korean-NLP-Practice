{
  "nbformat": 4,
  "nbformat_minor": 0,
  "metadata": {
    "colab": {
      "name": "(초보자)영화리뷰를이용한_텍스트분류.ipynb",
      "private_outputs": true,
      "provenance": [],
      "collapsed_sections": [],
      "authorship_tag": "ABX9TyP7YWQMMbSo701JFh5xSxqY",
      "include_colab_link": true
    },
    "kernelspec": {
      "name": "python3",
      "display_name": "Python 3"
    }
  },
  "cells": [
    {
      "cell_type": "markdown",
      "metadata": {
        "id": "view-in-github",
        "colab_type": "text"
      },
      "source": [
        "<a href=\"https://colab.research.google.com/github/Kang-Beom-Seo/Tensorflow_tutorial/blob/main/(%EC%B4%88%EB%B3%B4%EC%9E%90)%EC%98%81%ED%99%94%EB%A6%AC%EB%B7%B0%EB%A5%BC%EC%9D%B4%EC%9A%A9%ED%95%9C_%ED%85%8D%EC%8A%A4%ED%8A%B8%EB%B6%84%EB%A5%98.ipynb\" target=\"_parent\"><img src=\"https://colab.research.google.com/assets/colab-badge.svg\" alt=\"Open In Colab\"/></a>"
      ]
    },
    {
      "cell_type": "code",
      "metadata": {
        "id": "KEN8Y5JVdytN"
      },
      "source": [
        "import tensorflow as tf\r\n",
        "from tensorflow import keras\r\n",
        "\r\n",
        "import numpy as np\r\n",
        "\r\n",
        "print(tf.__version__)"
      ],
      "execution_count": null,
      "outputs": []
    },
    {
      "cell_type": "code",
      "metadata": {
        "id": "0cj-ewIBeWsI"
      },
      "source": [
        "imdb = keras.datasets.imdb\r\n",
        "\r\n",
        "(train_data, train_labels), (test_data, test_labels) = imdb.load_data(num_words=10000)"
      ],
      "execution_count": null,
      "outputs": []
    },
    {
      "cell_type": "code",
      "metadata": {
        "id": "fddUVcUze05i"
      },
      "source": [
        "print(\"훈련 샘플: {}, 레이블: {}\".format(len(train_data), len(train_labels)))"
      ],
      "execution_count": null,
      "outputs": []
    },
    {
      "cell_type": "code",
      "metadata": {
        "id": "01QOG7aifMCL"
      },
      "source": [
        "print(train_data[0])"
      ],
      "execution_count": null,
      "outputs": []
    },
    {
      "cell_type": "code",
      "metadata": {
        "id": "7habkAOvfP1b"
      },
      "source": [
        "len(train_data[0]), len(train_data[1])"
      ],
      "execution_count": null,
      "outputs": []
    },
    {
      "cell_type": "code",
      "metadata": {
        "id": "GtFotwgZfeR9"
      },
      "source": [
        "# 단어와 정수 인덱스를 매핑한 딕셔너리\r\n",
        "word_index = imdb.get_word_index()"
      ],
      "execution_count": null,
      "outputs": []
    },
    {
      "cell_type": "code",
      "metadata": {
        "id": "CVvK7Jt0fw3l"
      },
      "source": [
        "print(word_index) #key값이 영단어이고, value값은 정수인걸로 보인다."
      ],
      "execution_count": null,
      "outputs": []
    },
    {
      "cell_type": "code",
      "metadata": {
        "id": "Z9fy8hkZgIiR"
      },
      "source": [
        "print(word_index.items()) # key와 value쌍이 각각 튜플로 묶이는 개체로, 이 개체를 통해서 for문을 돌릴 수 있다. "
      ],
      "execution_count": null,
      "outputs": []
    },
    {
      "cell_type": "code",
      "metadata": {
        "id": "3RqMFbSfgleh"
      },
      "source": [
        "word_index = {k:(v+3) for k,v in word_index.items()} #k는 key, v는 value로 뽑혀나온 값이 k:(v+3)의 형태의 쌍으로 다시 딕셔너리 안에 들어간다.'\r\n",
        "                                                     #즉 원래 딕셔너리에서 value들이 원래값보다 +3된 결과이다."
      ],
      "execution_count": null,
      "outputs": []
    },
    {
      "cell_type": "code",
      "metadata": {
        "id": "Q5_as-O5hJZV"
      },
      "source": [
        "print(word_index) #아까 위의 행의 딕셔너리와 비교결과, key는 그대로고 value들만 3씩 올랐다."
      ],
      "execution_count": null,
      "outputs": []
    },
    {
      "cell_type": "code",
      "metadata": {
        "id": "F1zX3nOGhjXQ"
      },
      "source": [
        "word_index[\"<PAD>\"] = 0 #Padding 토큰으로, 가변적인 입력길이를 맞추려고 넣는 것이다. 값은 0\r\n",
        "word_index[\"<START>\"] = 1 #Start 토큰으로, 해당 문장이 시작된다는 것을 알려주는 것이다. 값은 1\r\n",
        "word_index[\"<UNK>\"] = 2  # unknown 토큰으로, 희귀한 단어들을 의미하는 것이다. 값은 2\r\n",
        "word_index[\"<UNUSED>\"] = 3 #unused 토큰으로, unknown이 있는데 이 토큰이 왜 있는지는 아직 모르겠다. 값은 3\r\n",
        "                         # 이들을 살펴보면 결국 토큰 값이 3까지 있으며, 이 토큰들과 값을 안겹치게 하기 위해 딕셔너리의 value들을 3씩 더한것으로 보인다."
      ],
      "execution_count": null,
      "outputs": []
    },
    {
      "cell_type": "code",
      "metadata": {
        "id": "Sx3mArDPi2WJ"
      },
      "source": [
        "word_index[\"<PAD>\"]"
      ],
      "execution_count": null,
      "outputs": []
    },
    {
      "cell_type": "code",
      "metadata": {
        "id": "hrqLtVbAi7ji"
      },
      "source": [
        "reverse_word_index = dict([(value, key) for (key, value) in word_index.items()]) #딕셔너리의 key와 value를 뒤집는다. 즉, 이제 숫자로 단어를 조회하는게 가능해졌다."
      ],
      "execution_count": null,
      "outputs": []
    },
    {
      "cell_type": "code",
      "metadata": {
        "id": "-f-GyMsPjMWd"
      },
      "source": [
        "print(reverse_word_index)"
      ],
      "execution_count": null,
      "outputs": []
    },
    {
      "cell_type": "code",
      "metadata": {
        "id": "LdkA-crZjZVO"
      },
      "source": [
        "print(reverse_word_index[4]) #임의의 숫자를 넣으면 영단어가 잘 조회된다."
      ],
      "execution_count": null,
      "outputs": []
    },
    {
      "cell_type": "code",
      "metadata": {
        "id": "ea-7TmgyjjS6"
      },
      "source": [
        "def decode_review(text): #숫자로 입력된 문장을 입력받으면, 위의 딕셔너리에서 숫자를 넣어 단어들을 조회해서 문장으로 만들어주는 함수이다.\r\n",
        "    return ' '.join([reverse_word_index.get(i, '?') for i in text]) #get(i, '?')에서 '?'는 해당 단어를 못찾으면 '?'로 리턴하는 것이다."
      ],
      "execution_count": null,
      "outputs": []
    },
    {
      "cell_type": "code",
      "metadata": {
        "id": "DJqV_OCqjwCu"
      },
      "source": [
        "decode_review(train_data[0]) #이와 같이 잘 출력된다. "
      ],
      "execution_count": null,
      "outputs": []
    },
    {
      "cell_type": "code",
      "metadata": {
        "id": "MBkg1ySHkmnm"
      },
      "source": [
        "train_data = keras.preprocessing.sequence.pad_sequences(train_data, #여기에는 list가 들어온다. list의 길이는 훈련시킬 데이터의 개수이다.\r\n",
        "                                                        value=word_index[\"<PAD>\"], #value인수에는 어떤 값으로 패딩할지가 들어가며, 여기서는 0이 들어간다.\r\n",
        "                                                        padding='post', #이거는 패딩하는 방식으로, pre는 앞에서부터 채우는거고, post는 뒤를 채우는거다.\r\n",
        "                                                        maxlen=256) #패딩해서 나오는 최종적인 길이다.\r\n",
        "\r\n",
        "test_data = keras.preprocessing.sequence.pad_sequences(test_data,\r\n",
        "                                                       value=word_index[\"<PAD>\"],\r\n",
        "                                                       padding='post',\r\n",
        "                                                       maxlen=256) #위와 동일한 방식으로 test_data도 패딩을 한다."
      ],
      "execution_count": null,
      "outputs": []
    },
    {
      "cell_type": "code",
      "metadata": {
        "id": "ssvLyVTETTLR"
      },
      "source": [
        "print(len(train_data[0]), len(train_data[1])) #길이가 256으로 잘 패딩되었다."
      ],
      "execution_count": null,
      "outputs": []
    },
    {
      "cell_type": "code",
      "metadata": {
        "id": "tLJrkjvkWid7"
      },
      "source": [
        "print(train_data[0]) #뒤에는 잘 0으로 패딩되었다."
      ],
      "execution_count": null,
      "outputs": []
    },
    {
      "cell_type": "markdown",
      "metadata": {
        "id": "v_KEgk6GWrqI"
      },
      "source": [
        "# **데이터 전처리가 끝나고, 이제부터는 모델을 구성하는 부분입니다.**\r\n",
        "\r\n",
        "\r\n"
      ]
    },
    {
      "cell_type": "code",
      "metadata": {
        "id": "tOSYQVI6Xoxy"
      },
      "source": [
        "vocab_size = 10000 #단어사전 크기가 10000이여서 이렇게 지정함."
      ],
      "execution_count": null,
      "outputs": []
    },
    {
      "cell_type": "code",
      "metadata": {
        "id": "PVJTZfYxX9IE"
      },
      "source": [
        "model = keras.Sequential() #이 모델은 정확히 1개의 입력텐서, 1개의 출력텐서가 있어야 적합하다.\r\n",
        "                           #이 모델의 경우, 문장을 받고, 출력의 경우 부정이나 긍정(0 또는 1)이 나오므로 이 모델을 쓰기 적합하다."
      ],
      "execution_count": null,
      "outputs": []
    },
    {
      "cell_type": "code",
      "metadata": {
        "id": "0vlF0UnLX_OM"
      },
      "source": [
        "model.add(keras.layers.Embedding(vocab_size, 16, input_shape=(None,))) #이 레이어는 워드 임베딩을 담당하는 레이어로, 이 레이어를 거치면\r\n",
        "                                                                       # (데이터수, 문장 길이, 임베딩된 차원)의 형태로 리턴된다."
      ],
      "execution_count": null,
      "outputs": []
    },
    {
      "cell_type": "code",
      "metadata": {
        "id": "anwcIxbObys8"
      },
      "source": [
        "model.add(keras.layers.GlobalAveragePooling1D()) #pooling 레이어로, pooling은 가중치들의 차원이 너무 커지는 걸 막기위해, 값을 선별하여 추린다고 생각하면 된다.\r\n",
        "                                                 #이 레이어 인수에는 data_format이 있는데, default값은 channels_last다. 이는 입력 텐서의 shape이\r\n",
        "                                                 #(batch, steps, features)일때 사용하며, channels_first는 (batch, features, steps)일때 사용한다.\r\n",
        "                                                 #여기서는 문장길이가 steps이며, 임베딩 차원이 features이므로 last방식을 이용하여 pooling하는 것이다."
      ],
      "execution_count": null,
      "outputs": []
    },
    {
      "cell_type": "code",
      "metadata": {
        "id": "7xGkn__aeBl2"
      },
      "source": [
        "model.add(keras.layers.Dense(16, activation='relu')) #fully-connected layer로, 활성함수는 relu로 사용하였다. relu는 max(0,x)로 음수는 0, 양수는 값을 그대로 쓰는 함수다."
      ],
      "execution_count": null,
      "outputs": []
    },
    {
      "cell_type": "code",
      "metadata": {
        "id": "_WL72WtmhHX-"
      },
      "source": [
        "model.add(keras.layers.Dense(1, activation='sigmoid')) #최종 layer로 sigmoid를 통해 값이 0~1로 결정된다."
      ],
      "execution_count": null,
      "outputs": []
    },
    {
      "cell_type": "code",
      "metadata": {
        "id": "9rdno6WUiso1"
      },
      "source": [
        "model.summary()"
      ],
      "execution_count": null,
      "outputs": []
    },
    {
      "cell_type": "code",
      "metadata": {
        "id": "c-K5rSqRit9s"
      },
      "source": [
        "model.compile(optimizer='adam', #adam 최적화 알고리즘을 사용한다. 자세한 알고리즘은 너무 복잡해서 나중에 봐야할듯 하다.\r\n",
        "              loss='binary_crossentropy', # 손실함수로는 binary_cross_entropy를 사용하였으며, cross_entropy중에서도 두개의 class(긍정, 부정)중 하나를 예측하는 binary로 사용하였다.\r\n",
        "              metrics=['accuracy']) # 정확도를 평가척도로 사용한다."
      ],
      "execution_count": null,
      "outputs": []
    },
    {
      "cell_type": "code",
      "metadata": {
        "id": "VJrbbet3BTRA"
      },
      "source": [
        "x_val = train_data[:10000] #validation 세트\r\n",
        "partial_x_train = train_data[10000:] #나머지 훈련세트\r\n",
        "\r\n",
        "y_val = train_labels[:10000]\r\n",
        "partial_y_train = train_labels[10000:]"
      ],
      "execution_count": null,
      "outputs": []
    },
    {
      "cell_type": "code",
      "metadata": {
        "id": "6HpwgFBqEOpP"
      },
      "source": [
        "history = model.fit(partial_x_train,\r\n",
        "                    partial_y_train,\r\n",
        "                    epochs=40,\r\n",
        "                    batch_size=512,\r\n",
        "                    validation_data=(x_val, y_val),\r\n",
        "                    verbose=1)"
      ],
      "execution_count": null,
      "outputs": []
    },
    {
      "cell_type": "code",
      "metadata": {
        "id": "uh3adLw2EZtd"
      },
      "source": [
        "results = model.evaluate(test_data,  test_labels, verbose=2)\r\n",
        "\r\n",
        "print(results)"
      ],
      "execution_count": null,
      "outputs": []
    },
    {
      "cell_type": "code",
      "metadata": {
        "id": "N-OuSdqQElLl"
      },
      "source": [
        "history_dict = history.history\r\n",
        "history_dict.keys()"
      ],
      "execution_count": null,
      "outputs": []
    },
    {
      "cell_type": "code",
      "metadata": {
        "id": "qB_f_VX0FS2T"
      },
      "source": [
        "import matplotlib.pyplot as plt\r\n",
        "\r\n",
        "acc = history_dict['accuracy']\r\n",
        "val_acc = history_dict['val_accuracy']\r\n",
        "loss = history_dict['loss']\r\n",
        "val_loss = history_dict['val_loss']\r\n",
        "\r\n",
        "epochs = range(1, len(acc) + 1) #acc에는 데이터 배치 하나당 하나씩의 accuracy가 있으므로, acc의 길이가 곧 데이터 배치의 총개수가 된다."
      ],
      "execution_count": null,
      "outputs": []
    },
    {
      "cell_type": "code",
      "metadata": {
        "id": "2dD35EkvFeHX"
      },
      "source": [
        "# \"bo\"는 \"파란색 점\"입니다\r\n",
        "plt.plot(epochs, loss, 'bo', label='Training loss') #왼쪽에서부터 x축, y축, 색깔, label이다.\r\n",
        "plt.title('Training and validation loss')\r\n",
        "plt.xlabel('Epochs')\r\n",
        "plt.ylabel('Loss')\r\n",
        "plt.legend() #범례(위의 label)를 표시한다.\r\n",
        "\r\n",
        "plt.show()"
      ],
      "execution_count": null,
      "outputs": []
    },
    {
      "cell_type": "code",
      "metadata": {
        "id": "UMBLMMuOFtut"
      },
      "source": [
        "plt.clf()   # 그림을 초기화합니다\r\n",
        "\r\n",
        "plt.plot(epochs, acc, 'bo', label='Training acc')\r\n",
        "plt.plot(epochs, val_acc, 'b', label='Validation acc')\r\n",
        "plt.title('Training and validation accuracy')\r\n",
        "plt.xlabel('Epochs')\r\n",
        "plt.ylabel('Accuracy')\r\n",
        "plt.legend()\r\n",
        "\r\n",
        "plt.show()"
      ],
      "execution_count": null,
      "outputs": []
    },
    {
      "cell_type": "code",
      "metadata": {
        "id": "YPa7RwHCHA6M"
      },
      "source": [
        ""
      ],
      "execution_count": null,
      "outputs": []
    }
  ]
}