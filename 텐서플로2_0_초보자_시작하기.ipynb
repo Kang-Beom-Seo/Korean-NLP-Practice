{
  "nbformat": 4,
  "nbformat_minor": 0,
  "metadata": {
    "colab": {
      "name": "텐서플로2.0_초보자_시작하기.ipynb",
      "private_outputs": true,
      "provenance": [],
      "collapsed_sections": [],
      "authorship_tag": "ABX9TyPs8Ve+eMSQuqlmVhZ3oSoU",
      "include_colab_link": true
    },
    "kernelspec": {
      "name": "python3",
      "display_name": "Python 3"
    }
  },
  "cells": [
    {
      "cell_type": "markdown",
      "metadata": {
        "id": "view-in-github",
        "colab_type": "text"
      },
      "source": [
        "<a href=\"https://colab.research.google.com/github/Kang-Beom-Seo/Tensorflow_tutorial/blob/main/%ED%85%90%EC%84%9C%ED%94%8C%EB%A1%9C2_0_%EC%B4%88%EB%B3%B4%EC%9E%90_%EC%8B%9C%EC%9E%91%ED%95%98%EA%B8%B0.ipynb\" target=\"_parent\"><img src=\"https://colab.research.google.com/assets/colab-badge.svg\" alt=\"Open In Colab\"/></a>"
      ]
    },
    {
      "cell_type": "code",
      "metadata": {
        "id": "mKtu5jNLWbNn"
      },
      "source": [
        "!pip install -q tensorflow-gpu==2.0.0-rc1 #tensorflow 설치\r\n",
        "import tensorflow as tf #tensorflow import과정"
      ],
      "execution_count": null,
      "outputs": []
    },
    {
      "cell_type": "code",
      "metadata": {
        "id": "lPjsKFVlWiQX"
      },
      "source": [
        ""
      ],
      "execution_count": null,
      "outputs": []
    }
  ]
}