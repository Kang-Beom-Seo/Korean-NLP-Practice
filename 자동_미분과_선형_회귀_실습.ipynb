{
  "nbformat": 4,
  "nbformat_minor": 0,
  "metadata": {
    "colab": {
      "name": "자동 미분과 선형 회귀 실습.ipynb",
      "private_outputs": true,
      "provenance": [],
      "collapsed_sections": [],
      "authorship_tag": "ABX9TyMX6RAI3GXrk/+qhq3+boOH",
      "include_colab_link": true
    },
    "kernelspec": {
      "name": "python3",
      "display_name": "Python 3"
    }
  },
  "cells": [
    {
      "cell_type": "markdown",
      "metadata": {
        "id": "view-in-github",
        "colab_type": "text"
      },
      "source": [
        "<a href=\"https://colab.research.google.com/github/Kang-Beom-Seo/Korean-NLP-Practice/blob/main/%EC%9E%90%EB%8F%99_%EB%AF%B8%EB%B6%84%EA%B3%BC_%EC%84%A0%ED%98%95_%ED%9A%8C%EA%B7%80_%EC%8B%A4%EC%8A%B5.ipynb\" target=\"_parent\"><img src=\"https://colab.research.google.com/assets/colab-badge.svg\" alt=\"Open In Colab\"/></a>"
      ]
    },
    {
      "cell_type": "code",
      "metadata": {
        "id": "nz62gqWp8jhI"
      },
      "source": [
        "import tensorflow as tf"
      ],
      "execution_count": null,
      "outputs": []
    },
    {
      "cell_type": "code",
      "metadata": {
        "id": "mnAdKNsO8slT"
      },
      "source": [
        "w = tf.Variable(2.)\r\n",
        "\r\n",
        "def f(w): #임의로 2w^2 + 5라는 식을 만듬\r\n",
        "  y = w**2\r\n",
        "  z = 2*y + 5\r\n",
        "  return z"
      ],
      "execution_count": null,
      "outputs": []
    },
    {
      "cell_type": "code",
      "metadata": {
        "id": "Ho5F3u_-8w6G"
      },
      "source": [
        "with tf.GradientTape() as tape:\r\n",
        "  z = f(w)\r\n",
        "\r\n",
        "gradients = tape.gradient(z, [w])\r\n",
        "print(gradients)"
      ],
      "execution_count": null,
      "outputs": []
    },
    {
      "cell_type": "code",
      "metadata": {
        "id": "Myl0nawV87le"
      },
      "source": [
        "# 학습될 가중치 변수를 선언. 4와 1로 임의로 초기화함.\r\n",
        "W = tf.Variable(4.0)\r\n",
        "b = tf.Variable(1.0)"
      ],
      "execution_count": null,
      "outputs": []
    },
    {
      "cell_type": "code",
      "metadata": {
        "id": "icos_2dhEWlx"
      },
      "source": [
        "def hypothesis(x):\r\n",
        "  return W*x + b"
      ],
      "execution_count": null,
      "outputs": []
    },
    {
      "cell_type": "code",
      "metadata": {
        "id": "BKr14Y0tEbHN"
      },
      "source": [
        "x_test = [3.5, 5, 5.5, 6]\r\n",
        "print(hypothesis(x_test).numpy())"
      ],
      "execution_count": null,
      "outputs": []
    },
    {
      "cell_type": "code",
      "metadata": {
        "id": "i8dejvhLEeFj"
      },
      "source": [
        "def mse_loss(y_pred, y):\r\n",
        "  # 두 개의 차이값을 제곱을 해서 평균을 취한다.\r\n",
        "  return tf.reduce_mean(tf.square(y_pred - y))"
      ],
      "execution_count": null,
      "outputs": []
    },
    {
      "cell_type": "code",
      "metadata": {
        "id": "TGYeT8XcEmcP"
      },
      "source": [
        "X=[1,2,3,4,5,6,7,8,9] # 공부하는 시간\r\n",
        "y=[11,22,33,44,53,66,77,87,95] # 각 공부하는 시간에 맵핑되는 성적"
      ],
      "execution_count": null,
      "outputs": []
    },
    {
      "cell_type": "code",
      "metadata": {
        "id": "lIPgPPpUExQu"
      },
      "source": [
        "optimizer = tf.optimizers.SGD(0.01) #학습률은 0.01"
      ],
      "execution_count": null,
      "outputs": []
    },
    {
      "cell_type": "code",
      "metadata": {
        "id": "XqH9PKAdEy8f"
      },
      "source": [
        "for i in range(301):\r\n",
        "  with tf.GradientTape() as tape:\r\n",
        "    # 현재 파라미터에 기반한 입력 x에 대한 예측값을 y_pred\r\n",
        "    y_pred = hypothesis(X)\r\n",
        "\r\n",
        "    # 평균 제곱 오차를 계산\r\n",
        "    cost = mse_loss(y_pred, y)\r\n",
        "\r\n",
        "  # 손실 함수에 대한 파라미터의 미분값 계산\r\n",
        "  gradients = tape.gradient(cost, [W, b])\r\n",
        "\r\n",
        "  # 파라미터 업데이트\r\n",
        "  optimizer.apply_gradients(zip(gradients, [W, b]))\r\n",
        "\r\n",
        "  if i % 10 == 0:\r\n",
        "    print(\"epoch : {:3} | W의 값 : {:5.4f} | b의 값 : {:5.4} | cost : {:5.6f}\".format(i, W.numpy(), b.numpy(), cost))"
      ],
      "execution_count": null,
      "outputs": []
    },
    {
      "cell_type": "code",
      "metadata": {
        "id": "nuT2w-ODFAK-"
      },
      "source": [
        "x_test = [3.5, 5, 5.5, 6]\r\n",
        "print(hypothesis(x_test).numpy())"
      ],
      "execution_count": null,
      "outputs": []
    },
    {
      "cell_type": "code",
      "metadata": {
        "id": "7HMRlxa9FfpN"
      },
      "source": [
        "#케라스로 구현\r\n",
        "import numpy as np\r\n",
        "from tensorflow.keras.models import Sequential\r\n",
        "from tensorflow.keras.layers import Dense\r\n",
        "from tensorflow.keras import optimizers"
      ],
      "execution_count": null,
      "outputs": []
    },
    {
      "cell_type": "code",
      "metadata": {
        "id": "RuyS5fVYGQJ8"
      },
      "source": [
        "X=[1,2,3,4,5,6,7,8,9] # 공부하는 시간\r\n",
        "y=[11,22,33,44,53,66,77,87,95] # 각 공부하는 시간에 맵핑되는 성적\r\n",
        "\r\n",
        "model = Sequential()\r\n",
        "\r\n",
        "# 입력 x의 차원은 1, 출력 y의 차원도 1. 선형 회귀이므로 activation은 'linear'\r\n",
        "model.add(Dense(1, input_dim=1, activation='linear'))\r\n",
        "\r\n",
        "# sgd는 경사 하강법을 의미. 학습률(learning rate, lr)은 0.01.\r\n",
        "sgd = optimizers.SGD(lr=0.01)\r\n",
        "\r\n",
        "# 손실 함수(Loss function)은 평균제곱오차 mse를 사용합니다.\r\n",
        "model.compile(optimizer=sgd ,loss='mse',metrics=['mse'])\r\n",
        "\r\n",
        "# 주어진 X와 y데이터에 대해서 오차를 최소화하는 작업을 300번 시도합니다.\r\n",
        "model.fit(X,y, batch_size=1, epochs=300, shuffle=False)"
      ],
      "execution_count": null,
      "outputs": []
    },
    {
      "cell_type": "code",
      "metadata": {
        "id": "QKOSO2kmGuYq"
      },
      "source": [
        "%matplotlib inline\r\n",
        "import matplotlib.pyplot as plt\r\n",
        "plt.plot(X, model.predict(X), 'b', X,y, 'k.')"
      ],
      "execution_count": null,
      "outputs": []
    },
    {
      "cell_type": "code",
      "metadata": {
        "id": "CjdAo0kdG6Nj"
      },
      "source": [
        "print(model.predict([9.5]))"
      ],
      "execution_count": null,
      "outputs": []
    },
    {
      "cell_type": "code",
      "metadata": {
        "id": "VtNuualcG-u1"
      },
      "source": [
        ""
      ],
      "execution_count": null,
      "outputs": []
    }
  ]
}