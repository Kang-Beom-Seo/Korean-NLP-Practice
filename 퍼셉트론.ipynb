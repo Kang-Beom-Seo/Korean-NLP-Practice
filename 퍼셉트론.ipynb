{
  "nbformat": 4,
  "nbformat_minor": 0,
  "metadata": {
    "colab": {
      "name": "퍼셉트론.ipynb",
      "private_outputs": true,
      "provenance": [],
      "collapsed_sections": [],
      "authorship_tag": "ABX9TyMqdq/Gbe2qPosYET/eY6Fi",
      "include_colab_link": true
    },
    "kernelspec": {
      "name": "python3",
      "display_name": "Python 3"
    }
  },
  "cells": [
    {
      "cell_type": "markdown",
      "metadata": {
        "id": "view-in-github",
        "colab_type": "text"
      },
      "source": [
        "<a href=\"https://colab.research.google.com/github/Kang-Beom-Seo/Korean-NLP-Practice/blob/main/%ED%8D%BC%EC%85%89%ED%8A%B8%EB%A1%A0.ipynb\" target=\"_parent\"><img src=\"https://colab.research.google.com/assets/colab-badge.svg\" alt=\"Open In Colab\"/></a>"
      ]
    },
    {
      "cell_type": "code",
      "metadata": {
        "id": "y9oBgmvV4NM2"
      },
      "source": [
        "def AND_gate(x1, x2):\r\n",
        "    w1=0.5\r\n",
        "    w2=0.5\r\n",
        "    b=-0.7\r\n",
        "    result = x1*w1 + x2*w2 + b\r\n",
        "    if result <= 0:\r\n",
        "        return 0\r\n",
        "    else:\r\n",
        "        return 1"
      ],
      "execution_count": null,
      "outputs": []
    },
    {
      "cell_type": "code",
      "metadata": {
        "id": "PdGz2zRe4uBw"
      },
      "source": [
        "AND_gate(0, 0), AND_gate(0, 1), AND_gate(1, 0), AND_gate(1, 1)"
      ],
      "execution_count": null,
      "outputs": []
    },
    {
      "cell_type": "code",
      "metadata": {
        "id": "2uGvz7yJ4w7v"
      },
      "source": [
        "def NAND_gate(x1, x2):\r\n",
        "    w1=-0.5\r\n",
        "    w2=-0.5\r\n",
        "    b=0.7\r\n",
        "    result = x1*w1 + x2*w2 + b\r\n",
        "    if result <= 0:\r\n",
        "        return 0\r\n",
        "    else:\r\n",
        "        return 1"
      ],
      "execution_count": null,
      "outputs": []
    },
    {
      "cell_type": "code",
      "metadata": {
        "id": "c4MDJ791423b"
      },
      "source": [
        "NAND_gate(0, 0), NAND_gate(0, 1), NAND_gate(1, 0), NAND_gate(1, 1)"
      ],
      "execution_count": null,
      "outputs": []
    },
    {
      "cell_type": "code",
      "metadata": {
        "id": "qewJYMxk44Fr"
      },
      "source": [
        "def OR_gate(x1, x2):\r\n",
        "    w1=0.6\r\n",
        "    w2=0.6\r\n",
        "    b=-0.5\r\n",
        "    result = x1*w1 + x2*w2 + b\r\n",
        "    if result <= 0:\r\n",
        "        return 0\r\n",
        "    else:\r\n",
        "        return 1"
      ],
      "execution_count": null,
      "outputs": []
    },
    {
      "cell_type": "code",
      "metadata": {
        "id": "8lTwEzcp48EM"
      },
      "source": [
        "OR_gate(0, 0), OR_gate(0, 1), OR_gate(1, 0), OR_gate(1, 1)"
      ],
      "execution_count": null,
      "outputs": []
    },
    {
      "cell_type": "code",
      "metadata": {
        "id": "6fN0qxr449ji"
      },
      "source": [
        "def XOR_gate(x1, x2):\r\n",
        "    h1 = NAND_gate(x1, x2)\r\n",
        "    h2 = OR_gate(x1, x2)\r\n",
        "    return AND_gate(h1, h2)"
      ],
      "execution_count": null,
      "outputs": []
    },
    {
      "cell_type": "code",
      "metadata": {
        "id": "I3eky_8C7etR"
      },
      "source": [
        "XOR_gate(0, 0), XOR_gate(0, 1), XOR_gate(1, 0), XOR_gate(1, 1)"
      ],
      "execution_count": null,
      "outputs": []
    },
    {
      "cell_type": "code",
      "metadata": {
        "id": "kEPp6Kz67k8K"
      },
      "source": [
        ""
      ],
      "execution_count": null,
      "outputs": []
    }
  ]
}