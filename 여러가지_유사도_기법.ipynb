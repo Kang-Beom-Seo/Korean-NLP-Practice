{
  "nbformat": 4,
  "nbformat_minor": 0,
  "metadata": {
    "colab": {
      "name": "여러가지 유사도 기법.ipynb",
      "private_outputs": true,
      "provenance": [],
      "collapsed_sections": [],
      "authorship_tag": "ABX9TyMkEY3oLoAXKa2SqC9l3BDk",
      "include_colab_link": true
    },
    "kernelspec": {
      "name": "python3",
      "display_name": "Python 3"
    }
  },
  "cells": [
    {
      "cell_type": "markdown",
      "metadata": {
        "id": "view-in-github",
        "colab_type": "text"
      },
      "source": [
        "<a href=\"https://colab.research.google.com/github/Kang-Beom-Seo/Korean-NLP-Practice/blob/main/%EC%97%AC%EB%9F%AC%EA%B0%80%EC%A7%80_%EC%9C%A0%EC%82%AC%EB%8F%84_%EA%B8%B0%EB%B2%95.ipynb\" target=\"_parent\"><img src=\"https://colab.research.google.com/assets/colab-badge.svg\" alt=\"Open In Colab\"/></a>"
      ]
    },
    {
      "cell_type": "code",
      "metadata": {
        "id": "MOWwFn0-5Cv-"
      },
      "source": [
        "import numpy as np\r\n",
        "def dist(x,y):   \r\n",
        "    return np.sqrt(np.sum((x-y)**2))\r\n",
        "\r\n",
        "doc1 = np.array((2,3,0,1))\r\n",
        "doc2 = np.array((1,2,3,1))\r\n",
        "doc3 = np.array((2,1,2,2))\r\n",
        "docQ = np.array((1,1,0,1))\r\n",
        "\r\n",
        "print(dist(doc1,docQ))\r\n",
        "print(dist(doc2,docQ))\r\n",
        "print(dist(doc3,docQ)) #유클리드 거리"
      ],
      "execution_count": null,
      "outputs": []
    },
    {
      "cell_type": "code",
      "metadata": {
        "id": "nmhR4KO-5Gn-"
      },
      "source": [
        "# 다음과 같은 두 개의 문서가 있습니다.\r\n",
        "# 두 문서 모두에서 등장한 단어는 apple과 banana 2개.\r\n",
        "doc1 = \"apple banana everyone like likey watch card holder\"\r\n",
        "doc2 = \"apple banana coupon passport love you\"\r\n",
        "\r\n",
        "# 토큰화를 수행합니다.\r\n",
        "tokenized_doc1 = doc1.split()\r\n",
        "tokenized_doc2 = doc2.split()\r\n",
        "\r\n",
        "# 토큰화 결과 출력\r\n",
        "print(tokenized_doc1)\r\n",
        "print(tokenized_doc2)"
      ],
      "execution_count": null,
      "outputs": []
    },
    {
      "cell_type": "code",
      "metadata": {
        "id": "bk1JeaaG5Z5T"
      },
      "source": [
        "union = set(tokenized_doc1).union(set(tokenized_doc2)) #합집합\r\n",
        "print(union)"
      ],
      "execution_count": null,
      "outputs": []
    },
    {
      "cell_type": "code",
      "metadata": {
        "id": "G7fx6Iin5jfh"
      },
      "source": [
        "intersection = set(tokenized_doc1).intersection(set(tokenized_doc2)) #교집합\r\n",
        "print(intersection)"
      ],
      "execution_count": null,
      "outputs": []
    },
    {
      "cell_type": "code",
      "metadata": {
        "id": "XmTxSjjH5nCR"
      },
      "source": [
        "print(len(intersection)/len(union)) # 2를 12로 나눔.\r\n",
        "                                    # 자카드 유사도(Jaccard similarity)"
      ],
      "execution_count": null,
      "outputs": []
    },
    {
      "cell_type": "code",
      "metadata": {
        "id": "9TmlYIKm5rNi"
      },
      "source": [
        ""
      ],
      "execution_count": null,
      "outputs": []
    }
  ]
}